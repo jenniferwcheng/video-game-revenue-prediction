{
  "nbformat": 4,
  "nbformat_minor": 0,
  "metadata": {
    "colab": {
      "name": "Cleaning_Data.ipynb",
      "provenance": [],
      "collapsed_sections": [
        "soahU36_6F-l",
        "1plPcLoVfrZv",
        "Jnq-OS615qni",
        "z2sQ0fl4yIIQ",
        "5b1qIlT4vnpP",
        "OCwGpMnQgA66",
        "vT7vShDbAbnf"
      ]
    },
    "kernelspec": {
      "name": "python3",
      "display_name": "Python 3"
    }
  },
  "cells": [
    {
      "cell_type": "markdown",
      "metadata": {
        "id": "soahU36_6F-l",
        "colab_type": "text"
      },
      "source": [
        "### Set Up"
      ]
    },
    {
      "cell_type": "code",
      "metadata": {
        "id": "M5CFPCuTGZEQ",
        "colab_type": "code",
        "colab": {}
      },
      "source": [
        "import pandas as pd\n",
        "import numpy as np\n",
        "import matplotlib.pyplot as plt  \n",
        "import seaborn as seabornInstance \n",
        "from sklearn.model_selection import train_test_split \n",
        "from sklearn.linear_model import LinearRegression\n",
        "from sklearn.preprocessing import PolynomialFeatures\n",
        "from sklearn.metrics import mean_squared_error, r2_score\n",
        "from sklearn import metrics \n",
        "from sklearn import datasets\n",
        "from sklearn.multiclass import OneVsRestClassifier\n",
        "from sklearn.svm import LinearSVC\n",
        "from sklearn.datasets import fetch_mldata\n",
        "from sklearn.preprocessing import StandardScaler\n",
        "from sklearn.linear_model import LogisticRegression\n",
        "from sklearn import tree\n",
        "from sklearn.neural_network import MLPClassifier\n",
        "from sklearn.preprocessing import label_binarize\n",
        "from sklearn.neural_network import MLPRegressor\n",
        "from sklearn.metrics import roc_auc_score\n",
        "import seaborn as sn\n",
        "import os"
      ],
      "execution_count": 0,
      "outputs": []
    },
    {
      "cell_type": "code",
      "metadata": {
        "id": "k-WUNDoFJa-j",
        "colab_type": "code",
        "outputId": "19265644-58e3-4369-9367-8fc66790b392",
        "colab": {
          "resources": {
            "http://localhost:8080/nbextensions/google.colab/files.js": {
              "data": "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",
              "ok": true,
              "headers": [
                [
                  "content-type",
                  "application/javascript"
                ]
              ],
              "status": 200,
              "status_text": ""
            }
          },
          "base_uri": "https://localhost:8080/",
          "height": 74
        }
      },
      "source": [
        "from google.colab import files\n",
        "uploaded = files.upload()"
      ],
      "execution_count": 2,
      "outputs": [
        {
          "output_type": "display_data",
          "data": {
            "text/html": [
              "\n",
              "     <input type=\"file\" id=\"files-0fb9e36e-815e-4bef-8b2a-33a39e7905d0\" name=\"files[]\" multiple disabled />\n",
              "     <output id=\"result-0fb9e36e-815e-4bef-8b2a-33a39e7905d0\">\n",
              "      Upload widget is only available when the cell has been executed in the\n",
              "      current browser session. Please rerun this cell to enable.\n",
              "      </output>\n",
              "      <script src=\"/nbextensions/google.colab/files.js\"></script> "
            ],
            "text/plain": [
              "<IPython.core.display.HTML object>"
            ]
          },
          "metadata": {
            "tags": []
          }
        },
        {
          "output_type": "stream",
          "text": [
            "Saving steam_raw.csv to steam_raw.csv\n"
          ],
          "name": "stdout"
        }
      ]
    },
    {
      "cell_type": "code",
      "metadata": {
        "id": "0mp9lqppHjzw",
        "colab_type": "code",
        "colab": {}
      },
      "source": [
        "df = pd.read_csv('./steam_raw.csv')"
      ],
      "execution_count": 0,
      "outputs": []
    },
    {
      "cell_type": "code",
      "metadata": {
        "id": "Lrh0PwUq5xUk",
        "colab_type": "code",
        "outputId": "4351d977-3d0a-4e34-8b12-f8ad8043391d",
        "colab": {
          "base_uri": "https://localhost:8080/",
          "height": 547
        }
      },
      "source": [
        "df.head()"
      ],
      "execution_count": 0,
      "outputs": [
        {
          "output_type": "execute_result",
          "data": {
            "text/html": [
              "<div>\n",
              "<style scoped>\n",
              "    .dataframe tbody tr th:only-of-type {\n",
              "        vertical-align: middle;\n",
              "    }\n",
              "\n",
              "    .dataframe tbody tr th {\n",
              "        vertical-align: top;\n",
              "    }\n",
              "\n",
              "    .dataframe thead th {\n",
              "        text-align: right;\n",
              "    }\n",
              "</style>\n",
              "<table border=\"1\" class=\"dataframe\">\n",
              "  <thead>\n",
              "    <tr style=\"text-align: right;\">\n",
              "      <th></th>\n",
              "      <th>appid</th>\n",
              "      <th>name</th>\n",
              "      <th>release_date</th>\n",
              "      <th>english</th>\n",
              "      <th>developer</th>\n",
              "      <th>publisher</th>\n",
              "      <th>platforms</th>\n",
              "      <th>required_age</th>\n",
              "      <th>categories</th>\n",
              "      <th>genres</th>\n",
              "      <th>steamspy_tags</th>\n",
              "      <th>achievements</th>\n",
              "      <th>positive_ratings</th>\n",
              "      <th>negative_ratings</th>\n",
              "      <th>average_playtime</th>\n",
              "      <th>median_playtime</th>\n",
              "      <th>owners</th>\n",
              "      <th>price</th>\n",
              "    </tr>\n",
              "  </thead>\n",
              "  <tbody>\n",
              "    <tr>\n",
              "      <th>0</th>\n",
              "      <td>10</td>\n",
              "      <td>Counter-Strike</td>\n",
              "      <td>2000-11-01</td>\n",
              "      <td>1</td>\n",
              "      <td>Valve</td>\n",
              "      <td>Valve</td>\n",
              "      <td>windows;mac;linux</td>\n",
              "      <td>0</td>\n",
              "      <td>Multi-player;Online Multi-Player;Local Multi-P...</td>\n",
              "      <td>Action</td>\n",
              "      <td>Action;FPS;Multiplayer</td>\n",
              "      <td>0</td>\n",
              "      <td>124534</td>\n",
              "      <td>3339</td>\n",
              "      <td>17612</td>\n",
              "      <td>317</td>\n",
              "      <td>10000000-20000000</td>\n",
              "      <td>7.19</td>\n",
              "    </tr>\n",
              "    <tr>\n",
              "      <th>1</th>\n",
              "      <td>20</td>\n",
              "      <td>Team Fortress Classic</td>\n",
              "      <td>1999-04-01</td>\n",
              "      <td>1</td>\n",
              "      <td>Valve</td>\n",
              "      <td>Valve</td>\n",
              "      <td>windows;mac;linux</td>\n",
              "      <td>0</td>\n",
              "      <td>Multi-player;Online Multi-Player;Local Multi-P...</td>\n",
              "      <td>Action</td>\n",
              "      <td>Action;FPS;Multiplayer</td>\n",
              "      <td>0</td>\n",
              "      <td>3318</td>\n",
              "      <td>633</td>\n",
              "      <td>277</td>\n",
              "      <td>62</td>\n",
              "      <td>5000000-10000000</td>\n",
              "      <td>3.99</td>\n",
              "    </tr>\n",
              "    <tr>\n",
              "      <th>2</th>\n",
              "      <td>30</td>\n",
              "      <td>Day of Defeat</td>\n",
              "      <td>2003-05-01</td>\n",
              "      <td>1</td>\n",
              "      <td>Valve</td>\n",
              "      <td>Valve</td>\n",
              "      <td>windows;mac;linux</td>\n",
              "      <td>0</td>\n",
              "      <td>Multi-player;Valve Anti-Cheat enabled</td>\n",
              "      <td>Action</td>\n",
              "      <td>FPS;World War II;Multiplayer</td>\n",
              "      <td>0</td>\n",
              "      <td>3416</td>\n",
              "      <td>398</td>\n",
              "      <td>187</td>\n",
              "      <td>34</td>\n",
              "      <td>5000000-10000000</td>\n",
              "      <td>3.99</td>\n",
              "    </tr>\n",
              "    <tr>\n",
              "      <th>3</th>\n",
              "      <td>40</td>\n",
              "      <td>Deathmatch Classic</td>\n",
              "      <td>2001-06-01</td>\n",
              "      <td>1</td>\n",
              "      <td>Valve</td>\n",
              "      <td>Valve</td>\n",
              "      <td>windows;mac;linux</td>\n",
              "      <td>0</td>\n",
              "      <td>Multi-player;Online Multi-Player;Local Multi-P...</td>\n",
              "      <td>Action</td>\n",
              "      <td>Action;FPS;Multiplayer</td>\n",
              "      <td>0</td>\n",
              "      <td>1273</td>\n",
              "      <td>267</td>\n",
              "      <td>258</td>\n",
              "      <td>184</td>\n",
              "      <td>5000000-10000000</td>\n",
              "      <td>3.99</td>\n",
              "    </tr>\n",
              "    <tr>\n",
              "      <th>4</th>\n",
              "      <td>50</td>\n",
              "      <td>Half-Life: Opposing Force</td>\n",
              "      <td>1999-11-01</td>\n",
              "      <td>1</td>\n",
              "      <td>Gearbox Software</td>\n",
              "      <td>Valve</td>\n",
              "      <td>windows;mac;linux</td>\n",
              "      <td>0</td>\n",
              "      <td>Single-player;Multi-player;Valve Anti-Cheat en...</td>\n",
              "      <td>Action</td>\n",
              "      <td>FPS;Action;Sci-fi</td>\n",
              "      <td>0</td>\n",
              "      <td>5250</td>\n",
              "      <td>288</td>\n",
              "      <td>624</td>\n",
              "      <td>415</td>\n",
              "      <td>5000000-10000000</td>\n",
              "      <td>3.99</td>\n",
              "    </tr>\n",
              "  </tbody>\n",
              "</table>\n",
              "</div>"
            ],
            "text/plain": [
              "   appid                       name  ...             owners  price\n",
              "0     10             Counter-Strike  ...  10000000-20000000   7.19\n",
              "1     20      Team Fortress Classic  ...   5000000-10000000   3.99\n",
              "2     30              Day of Defeat  ...   5000000-10000000   3.99\n",
              "3     40         Deathmatch Classic  ...   5000000-10000000   3.99\n",
              "4     50  Half-Life: Opposing Force  ...   5000000-10000000   3.99\n",
              "\n",
              "[5 rows x 18 columns]"
            ]
          },
          "metadata": {
            "tags": []
          },
          "execution_count": 40
        }
      ]
    },
    {
      "cell_type": "markdown",
      "metadata": {
        "id": "1plPcLoVfrZv",
        "colab_type": "text"
      },
      "source": [
        "### Data Cleaning"
      ]
    },
    {
      "cell_type": "code",
      "metadata": {
        "id": "WAJGczqDHqAR",
        "colab_type": "code",
        "outputId": "ba4ac72a-7805-498e-bd6a-1194fe0a2e65",
        "colab": {
          "base_uri": "https://localhost:8080/",
          "height": 284
        }
      },
      "source": [
        "# remove unwanted columns\n",
        "to_drop = ['appid', 'name', 'english', 'developer', 'publisher', 'platforms', 'required_age', 'genres', 'steamspy_tags']\n",
        "df.drop(to_drop, inplace=True, axis=1)\n",
        "\n",
        "# remove zeros in columns\n",
        "df['price'] = df['price'].astype(float)\n",
        "df['achievements'] = df['achievements'].astype(float)\n",
        "df['average_playtime'] = df['average_playtime'].astype(float)\n",
        "df = df[df.price != 0]\n",
        "#df = df[df.achievements != 0]\n",
        "#df = df[df.average_playtime != 0]\n",
        "#df = df[df.median_playtime != 0]\n",
        "df.describe()"
      ],
      "execution_count": 4,
      "outputs": [
        {
          "output_type": "execute_result",
          "data": {
            "text/html": [
              "<div>\n",
              "<style scoped>\n",
              "    .dataframe tbody tr th:only-of-type {\n",
              "        vertical-align: middle;\n",
              "    }\n",
              "\n",
              "    .dataframe tbody tr th {\n",
              "        vertical-align: top;\n",
              "    }\n",
              "\n",
              "    .dataframe thead th {\n",
              "        text-align: right;\n",
              "    }\n",
              "</style>\n",
              "<table border=\"1\" class=\"dataframe\">\n",
              "  <thead>\n",
              "    <tr style=\"text-align: right;\">\n",
              "      <th></th>\n",
              "      <th>achievements</th>\n",
              "      <th>positive_ratings</th>\n",
              "      <th>negative_ratings</th>\n",
              "      <th>average_playtime</th>\n",
              "      <th>median_playtime</th>\n",
              "      <th>price</th>\n",
              "    </tr>\n",
              "  </thead>\n",
              "  <tbody>\n",
              "    <tr>\n",
              "      <th>count</th>\n",
              "      <td>24515.000000</td>\n",
              "      <td>24515.000000</td>\n",
              "      <td>24515.000000</td>\n",
              "      <td>24515.000000</td>\n",
              "      <td>24515.000000</td>\n",
              "      <td>24515.000000</td>\n",
              "    </tr>\n",
              "    <tr>\n",
              "      <th>mean</th>\n",
              "      <td>47.752396</td>\n",
              "      <td>784.935346</td>\n",
              "      <td>167.258454</td>\n",
              "      <td>117.085866</td>\n",
              "      <td>116.447767</td>\n",
              "      <td>6.712914</td>\n",
              "    </tr>\n",
              "    <tr>\n",
              "      <th>std</th>\n",
              "      <td>366.361743</td>\n",
              "      <td>7827.263120</td>\n",
              "      <td>3482.386936</td>\n",
              "      <td>939.620677</td>\n",
              "      <td>1068.468825</td>\n",
              "      <td>8.014336</td>\n",
              "    </tr>\n",
              "    <tr>\n",
              "      <th>min</th>\n",
              "      <td>0.000000</td>\n",
              "      <td>0.000000</td>\n",
              "      <td>0.000000</td>\n",
              "      <td>0.000000</td>\n",
              "      <td>0.000000</td>\n",
              "      <td>0.320000</td>\n",
              "    </tr>\n",
              "    <tr>\n",
              "      <th>25%</th>\n",
              "      <td>0.000000</td>\n",
              "      <td>6.000000</td>\n",
              "      <td>2.000000</td>\n",
              "      <td>0.000000</td>\n",
              "      <td>0.000000</td>\n",
              "      <td>2.090000</td>\n",
              "    </tr>\n",
              "    <tr>\n",
              "      <th>50%</th>\n",
              "      <td>8.000000</td>\n",
              "      <td>22.000000</td>\n",
              "      <td>8.000000</td>\n",
              "      <td>0.000000</td>\n",
              "      <td>0.000000</td>\n",
              "      <td>4.790000</td>\n",
              "    </tr>\n",
              "    <tr>\n",
              "      <th>75%</th>\n",
              "      <td>24.000000</td>\n",
              "      <td>112.000000</td>\n",
              "      <td>37.000000</td>\n",
              "      <td>0.000000</td>\n",
              "      <td>0.000000</td>\n",
              "      <td>7.490000</td>\n",
              "    </tr>\n",
              "    <tr>\n",
              "      <th>max</th>\n",
              "      <td>9821.000000</td>\n",
              "      <td>496184.000000</td>\n",
              "      <td>487076.000000</td>\n",
              "      <td>55204.000000</td>\n",
              "      <td>86148.000000</td>\n",
              "      <td>421.990000</td>\n",
              "    </tr>\n",
              "  </tbody>\n",
              "</table>\n",
              "</div>"
            ],
            "text/plain": [
              "       achievements  positive_ratings  ...  median_playtime         price\n",
              "count  24515.000000      24515.000000  ...     24515.000000  24515.000000\n",
              "mean      47.752396        784.935346  ...       116.447767      6.712914\n",
              "std      366.361743       7827.263120  ...      1068.468825      8.014336\n",
              "min        0.000000          0.000000  ...         0.000000      0.320000\n",
              "25%        0.000000          6.000000  ...         0.000000      2.090000\n",
              "50%        8.000000         22.000000  ...         0.000000      4.790000\n",
              "75%       24.000000        112.000000  ...         0.000000      7.490000\n",
              "max     9821.000000     496184.000000  ...     86148.000000    421.990000\n",
              "\n",
              "[8 rows x 6 columns]"
            ]
          },
          "metadata": {
            "tags": []
          },
          "execution_count": 4
        }
      ]
    },
    {
      "cell_type": "code",
      "metadata": {
        "id": "sRfksQk6H3AA",
        "colab_type": "code",
        "outputId": "fe367564-e82d-4ef0-e2d1-b3437e8f8ce3",
        "colab": {
          "base_uri": "https://localhost:8080/",
          "height": 195
        }
      },
      "source": [
        "# combine ratings\n",
        "df.insert(1, 'total_ratings', ' ', True)\n",
        "df.total_ratings = df.positive_ratings+df.negative_ratings;\n",
        "\n",
        "df.insert(4, 'ratings', ' ', True) \n",
        "df['ratings'] = df['positive_ratings']/(df['positive_ratings'] + df['negative_ratings'])\n",
        "\n",
        "# remove unwanted ratings columns\n",
        "to_drop = ['positive_ratings', 'negative_ratings']\n",
        "df.drop(to_drop, inplace=True, axis=1)\n",
        "df.head()"
      ],
      "execution_count": 5,
      "outputs": [
        {
          "output_type": "execute_result",
          "data": {
            "text/html": [
              "<div>\n",
              "<style scoped>\n",
              "    .dataframe tbody tr th:only-of-type {\n",
              "        vertical-align: middle;\n",
              "    }\n",
              "\n",
              "    .dataframe tbody tr th {\n",
              "        vertical-align: top;\n",
              "    }\n",
              "\n",
              "    .dataframe thead th {\n",
              "        text-align: right;\n",
              "    }\n",
              "</style>\n",
              "<table border=\"1\" class=\"dataframe\">\n",
              "  <thead>\n",
              "    <tr style=\"text-align: right;\">\n",
              "      <th></th>\n",
              "      <th>release_date</th>\n",
              "      <th>total_ratings</th>\n",
              "      <th>categories</th>\n",
              "      <th>achievements</th>\n",
              "      <th>ratings</th>\n",
              "      <th>average_playtime</th>\n",
              "      <th>median_playtime</th>\n",
              "      <th>owners</th>\n",
              "      <th>price</th>\n",
              "    </tr>\n",
              "  </thead>\n",
              "  <tbody>\n",
              "    <tr>\n",
              "      <th>0</th>\n",
              "      <td>2000-11-01</td>\n",
              "      <td>127873</td>\n",
              "      <td>Multi-player;Online Multi-Player;Local Multi-P...</td>\n",
              "      <td>0.0</td>\n",
              "      <td>0.973888</td>\n",
              "      <td>17612.0</td>\n",
              "      <td>317</td>\n",
              "      <td>10000000-20000000</td>\n",
              "      <td>7.19</td>\n",
              "    </tr>\n",
              "    <tr>\n",
              "      <th>1</th>\n",
              "      <td>1999-04-01</td>\n",
              "      <td>3951</td>\n",
              "      <td>Multi-player;Online Multi-Player;Local Multi-P...</td>\n",
              "      <td>0.0</td>\n",
              "      <td>0.839787</td>\n",
              "      <td>277.0</td>\n",
              "      <td>62</td>\n",
              "      <td>5000000-10000000</td>\n",
              "      <td>3.99</td>\n",
              "    </tr>\n",
              "    <tr>\n",
              "      <th>2</th>\n",
              "      <td>2003-05-01</td>\n",
              "      <td>3814</td>\n",
              "      <td>Multi-player;Valve Anti-Cheat enabled</td>\n",
              "      <td>0.0</td>\n",
              "      <td>0.895648</td>\n",
              "      <td>187.0</td>\n",
              "      <td>34</td>\n",
              "      <td>5000000-10000000</td>\n",
              "      <td>3.99</td>\n",
              "    </tr>\n",
              "    <tr>\n",
              "      <th>3</th>\n",
              "      <td>2001-06-01</td>\n",
              "      <td>1540</td>\n",
              "      <td>Multi-player;Online Multi-Player;Local Multi-P...</td>\n",
              "      <td>0.0</td>\n",
              "      <td>0.826623</td>\n",
              "      <td>258.0</td>\n",
              "      <td>184</td>\n",
              "      <td>5000000-10000000</td>\n",
              "      <td>3.99</td>\n",
              "    </tr>\n",
              "    <tr>\n",
              "      <th>4</th>\n",
              "      <td>1999-11-01</td>\n",
              "      <td>5538</td>\n",
              "      <td>Single-player;Multi-player;Valve Anti-Cheat en...</td>\n",
              "      <td>0.0</td>\n",
              "      <td>0.947996</td>\n",
              "      <td>624.0</td>\n",
              "      <td>415</td>\n",
              "      <td>5000000-10000000</td>\n",
              "      <td>3.99</td>\n",
              "    </tr>\n",
              "  </tbody>\n",
              "</table>\n",
              "</div>"
            ],
            "text/plain": [
              "  release_date  total_ratings  ...             owners  price\n",
              "0   2000-11-01         127873  ...  10000000-20000000   7.19\n",
              "1   1999-04-01           3951  ...   5000000-10000000   3.99\n",
              "2   2003-05-01           3814  ...   5000000-10000000   3.99\n",
              "3   2001-06-01           1540  ...   5000000-10000000   3.99\n",
              "4   1999-11-01           5538  ...   5000000-10000000   3.99\n",
              "\n",
              "[5 rows x 9 columns]"
            ]
          },
          "metadata": {
            "tags": []
          },
          "execution_count": 5
        }
      ]
    },
    {
      "cell_type": "code",
      "metadata": {
        "id": "kPQgUzMRH5fz",
        "colab_type": "code",
        "colab": {}
      },
      "source": [
        "# extract the year\n",
        "df['release_year'] = pd.DatetimeIndex(df['release_date']).year\n",
        "\n",
        "# remove release_date column\n",
        "to_drop = ['release_date']\n",
        "df.drop(to_drop, inplace=True, axis=1)\n",
        "\n",
        "# split owners\n",
        "df[['min_owners','max_owners']] = df['owners'].str.split('-',expand=True)\n",
        "\n",
        "# calculate average yearly revenue\n",
        "df.insert(8, 'avg_revenue', ' ', True) \n",
        "df['min_owners'] = df['min_owners'].astype(float)\n",
        "df['max_owners'] = df['max_owners'].astype(float)\n",
        "df['price'] = df['price'].astype(float)\n",
        "df['release_year'] = df['release_year'].astype(float)\n",
        "df['avg_revenue'] = (df['min_owners'] + df['max_owners'])/2 * df['price'] / (2020 - df['release_year'])\n",
        "\n",
        "# remove columns\n",
        "to_drop = ['release_year', 'min_owners', 'max_owners', 'owners']\n",
        "df.drop(to_drop, inplace=True, axis=1)"
      ],
      "execution_count": 0,
      "outputs": []
    },
    {
      "cell_type": "code",
      "metadata": {
        "id": "HlDoNpn8IK27",
        "colab_type": "code",
        "colab": {}
      },
      "source": [
        "# insert column for multi-player and single-player\n",
        "df.insert(1, 'singleplayer', ' ', True) \n",
        "df.insert(2, 'multiplayer', ' ', True) \n",
        "\n",
        "# make categories lowercase\n",
        "df['categories'] = df['categories'].str.lower()\n",
        "\n",
        "# Populate columns with True/False\n",
        "df['singleplayer'] = df['categories'].str.contains('single-player')\n",
        "df['multiplayer'] = df['categories'].str.contains('multi-player')\n",
        "\n",
        "# Change to binary 0/1\n",
        "df['singleplayer'] = df['singleplayer'].astype(int)\n",
        "df['multiplayer'] = df['multiplayer'].astype(int)\n",
        "\n",
        "to_drop = ['categories']\n",
        "df.drop(to_drop, inplace=True, axis=1)"
      ],
      "execution_count": 0,
      "outputs": []
    },
    {
      "cell_type": "code",
      "metadata": {
        "id": "6k7Zx3Q2IbPk",
        "colab_type": "code",
        "colab": {}
      },
      "source": [
        "# mean normalization + feature scaling\n",
        "achievements_std = df['achievements'].std()\n",
        "achievements_mean = df.achievements.mean()\n",
        "df.achievements = (df.achievements - achievements_mean)/achievements_std\n",
        "\n",
        "price_std = df['price'].std()\n",
        "price_mean = df.price.mean()\n",
        "df.price = (df.price - price_mean)/price_std\n",
        "\n",
        "avg_playtime_std = df['average_playtime'].std()\n",
        "avg_playtime_mean = df.average_playtime.mean()\n",
        "df.average_playtime = (df.average_playtime - avg_playtime_mean)/avg_playtime_std\n",
        "\n",
        "med_playtime_std = df['median_playtime'].std()\n",
        "med_playtime_mean = df.median_playtime.mean()\n",
        "df.median_playtime = (df.median_playtime - med_playtime_mean)/med_playtime_std\n",
        "\n",
        "total_ratings_std = df.total_ratings.std()\n",
        "total_ratings_mean = df.total_ratings.mean()\n",
        "df.total_ratings = (df.total_ratings - total_ratings_mean)/total_ratings_std"
      ],
      "execution_count": 0,
      "outputs": []
    },
    {
      "cell_type": "code",
      "metadata": {
        "id": "vkPawJBqIgP9",
        "colab_type": "code",
        "colab": {}
      },
      "source": [
        "#df.avg_revenue = np.log(df.avg_revenue)\n",
        "#df.to_csv('steam_v1.csv')\n",
        "#files.download('steam_v1.csv')"
      ],
      "execution_count": 0,
      "outputs": []
    },
    {
      "cell_type": "code",
      "metadata": {
        "id": "0MbcXxBAob_-",
        "colab_type": "code",
        "outputId": "074dec73-292a-4d87-89aa-78a1bd16d367",
        "colab": {
          "base_uri": "https://localhost:8080/",
          "height": 297
        }
      },
      "source": [
        "df.describe()"
      ],
      "execution_count": 0,
      "outputs": [
        {
          "output_type": "execute_result",
          "data": {
            "text/html": [
              "<div>\n",
              "<style scoped>\n",
              "    .dataframe tbody tr th:only-of-type {\n",
              "        vertical-align: middle;\n",
              "    }\n",
              "\n",
              "    .dataframe tbody tr th {\n",
              "        vertical-align: top;\n",
              "    }\n",
              "\n",
              "    .dataframe thead th {\n",
              "        text-align: right;\n",
              "    }\n",
              "</style>\n",
              "<table border=\"1\" class=\"dataframe\">\n",
              "  <thead>\n",
              "    <tr style=\"text-align: right;\">\n",
              "      <th></th>\n",
              "      <th>total_ratings</th>\n",
              "      <th>singleplayer</th>\n",
              "      <th>multiplayer</th>\n",
              "      <th>achievements</th>\n",
              "      <th>ratings</th>\n",
              "      <th>average_playtime</th>\n",
              "      <th>median_playtime</th>\n",
              "      <th>price</th>\n",
              "      <th>avg_revenue</th>\n",
              "    </tr>\n",
              "  </thead>\n",
              "  <tbody>\n",
              "    <tr>\n",
              "      <th>count</th>\n",
              "      <td>2.451500e+04</td>\n",
              "      <td>24515.000000</td>\n",
              "      <td>24515.000000</td>\n",
              "      <td>2.451500e+04</td>\n",
              "      <td>24515.000000</td>\n",
              "      <td>2.451500e+04</td>\n",
              "      <td>2.451500e+04</td>\n",
              "      <td>2.451500e+04</td>\n",
              "      <td>2.451500e+04</td>\n",
              "    </tr>\n",
              "    <tr>\n",
              "      <th>mean</th>\n",
              "      <td>-1.017752e-15</td>\n",
              "      <td>0.965980</td>\n",
              "      <td>0.178625</td>\n",
              "      <td>-3.843523e-15</td>\n",
              "      <td>0.713999</td>\n",
              "      <td>-1.726036e-14</td>\n",
              "      <td>2.102354e-14</td>\n",
              "      <td>-6.702102e-14</td>\n",
              "      <td>3.047743e+05</td>\n",
              "    </tr>\n",
              "    <tr>\n",
              "      <th>std</th>\n",
              "      <td>1.000000e+00</td>\n",
              "      <td>0.181284</td>\n",
              "      <td>0.383046</td>\n",
              "      <td>1.000000e+00</td>\n",
              "      <td>0.238622</td>\n",
              "      <td>1.000000e+00</td>\n",
              "      <td>1.000000e+00</td>\n",
              "      <td>1.000000e+00</td>\n",
              "      <td>5.125625e+06</td>\n",
              "    </tr>\n",
              "    <tr>\n",
              "      <th>min</th>\n",
              "      <td>-9.127948e-02</td>\n",
              "      <td>0.000000</td>\n",
              "      <td>0.000000</td>\n",
              "      <td>-1.303422e-01</td>\n",
              "      <td>0.000000</td>\n",
              "      <td>-1.246097e-01</td>\n",
              "      <td>-1.089856e-01</td>\n",
              "      <td>-7.976848e-01</td>\n",
              "      <td>1.316667e+03</td>\n",
              "    </tr>\n",
              "    <tr>\n",
              "      <th>25%</th>\n",
              "      <td>-9.051177e-02</td>\n",
              "      <td>1.000000</td>\n",
              "      <td>0.000000</td>\n",
              "      <td>-1.303422e-01</td>\n",
              "      <td>0.582116</td>\n",
              "      <td>-1.246097e-01</td>\n",
              "      <td>-1.089856e-01</td>\n",
              "      <td>-5.768306e-01</td>\n",
              "      <td>9.975000e+03</td>\n",
              "    </tr>\n",
              "    <tr>\n",
              "      <th>50%</th>\n",
              "      <td>-8.820866e-02</td>\n",
              "      <td>1.000000</td>\n",
              "      <td>0.000000</td>\n",
              "      <td>-1.085059e-01</td>\n",
              "      <td>0.764706</td>\n",
              "      <td>-1.246097e-01</td>\n",
              "      <td>-1.089856e-01</td>\n",
              "      <td>-2.399343e-01</td>\n",
              "      <td>2.330000e+04</td>\n",
              "    </tr>\n",
              "    <tr>\n",
              "      <th>75%</th>\n",
              "      <td>-7.630924e-02</td>\n",
              "      <td>1.000000</td>\n",
              "      <td>0.000000</td>\n",
              "      <td>-6.483318e-02</td>\n",
              "      <td>0.897436</td>\n",
              "      <td>-1.246097e-01</td>\n",
              "      <td>-1.089856e-01</td>\n",
              "      <td>9.696203e-02</td>\n",
              "      <td>5.905000e+04</td>\n",
              "    </tr>\n",
              "    <tr>\n",
              "      <th>max</th>\n",
              "      <td>9.426527e+01</td>\n",
              "      <td>1.000000</td>\n",
              "      <td>1.000000</td>\n",
              "      <td>2.667650e+01</td>\n",
              "      <td>1.000000</td>\n",
              "      <td>5.862676e+01</td>\n",
              "      <td>8.051854e+01</td>\n",
              "      <td>5.181678e+01</td>\n",
              "      <td>6.747500e+08</td>\n",
              "    </tr>\n",
              "  </tbody>\n",
              "</table>\n",
              "</div>"
            ],
            "text/plain": [
              "       total_ratings  singleplayer  ...         price   avg_revenue\n",
              "count   2.451500e+04  24515.000000  ...  2.451500e+04  2.451500e+04\n",
              "mean   -1.017752e-15      0.965980  ... -6.702102e-14  3.047743e+05\n",
              "std     1.000000e+00      0.181284  ...  1.000000e+00  5.125625e+06\n",
              "min    -9.127948e-02      0.000000  ... -7.976848e-01  1.316667e+03\n",
              "25%    -9.051177e-02      1.000000  ... -5.768306e-01  9.975000e+03\n",
              "50%    -8.820866e-02      1.000000  ... -2.399343e-01  2.330000e+04\n",
              "75%    -7.630924e-02      1.000000  ...  9.696203e-02  5.905000e+04\n",
              "max     9.426527e+01      1.000000  ...  5.181678e+01  6.747500e+08\n",
              "\n",
              "[8 rows x 9 columns]"
            ]
          },
          "metadata": {
            "tags": []
          },
          "execution_count": 47
        }
      ]
    },
    {
      "cell_type": "code",
      "metadata": {
        "id": "QlXt_x_yBQDs",
        "colab_type": "code",
        "outputId": "0f2f4d23-298a-4dd5-bb8e-a30cd4f29873",
        "colab": {
          "base_uri": "https://localhost:8080/",
          "height": 195
        }
      },
      "source": [
        "# dropping average_playtime and median_playtime\n",
        "to_drop = ['average_playtime', 'median_playtime']\n",
        "df.drop(to_drop, inplace=True, axis=1)\n",
        "df.head()"
      ],
      "execution_count": 9,
      "outputs": [
        {
          "output_type": "execute_result",
          "data": {
            "text/html": [
              "<div>\n",
              "<style scoped>\n",
              "    .dataframe tbody tr th:only-of-type {\n",
              "        vertical-align: middle;\n",
              "    }\n",
              "\n",
              "    .dataframe tbody tr th {\n",
              "        vertical-align: top;\n",
              "    }\n",
              "\n",
              "    .dataframe thead th {\n",
              "        text-align: right;\n",
              "    }\n",
              "</style>\n",
              "<table border=\"1\" class=\"dataframe\">\n",
              "  <thead>\n",
              "    <tr style=\"text-align: right;\">\n",
              "      <th></th>\n",
              "      <th>total_ratings</th>\n",
              "      <th>singleplayer</th>\n",
              "      <th>multiplayer</th>\n",
              "      <th>achievements</th>\n",
              "      <th>ratings</th>\n",
              "      <th>price</th>\n",
              "      <th>avg_revenue</th>\n",
              "    </tr>\n",
              "  </thead>\n",
              "  <tbody>\n",
              "    <tr>\n",
              "      <th>0</th>\n",
              "      <td>12.179710</td>\n",
              "      <td>0</td>\n",
              "      <td>1</td>\n",
              "      <td>-0.130342</td>\n",
              "      <td>0.973888</td>\n",
              "      <td>0.059529</td>\n",
              "      <td>5.392500e+06</td>\n",
              "    </tr>\n",
              "    <tr>\n",
              "      <th>1</th>\n",
              "      <td>0.287775</td>\n",
              "      <td>0</td>\n",
              "      <td>1</td>\n",
              "      <td>-0.130342</td>\n",
              "      <td>0.839787</td>\n",
              "      <td>-0.339755</td>\n",
              "      <td>1.425000e+06</td>\n",
              "    </tr>\n",
              "    <tr>\n",
              "      <th>2</th>\n",
              "      <td>0.274628</td>\n",
              "      <td>0</td>\n",
              "      <td>1</td>\n",
              "      <td>-0.130342</td>\n",
              "      <td>0.895648</td>\n",
              "      <td>-0.339755</td>\n",
              "      <td>1.760294e+06</td>\n",
              "    </tr>\n",
              "    <tr>\n",
              "      <th>3</th>\n",
              "      <td>0.056408</td>\n",
              "      <td>0</td>\n",
              "      <td>1</td>\n",
              "      <td>-0.130342</td>\n",
              "      <td>0.826623</td>\n",
              "      <td>-0.339755</td>\n",
              "      <td>1.575000e+06</td>\n",
              "    </tr>\n",
              "    <tr>\n",
              "      <th>4</th>\n",
              "      <td>0.440068</td>\n",
              "      <td>1</td>\n",
              "      <td>1</td>\n",
              "      <td>-0.130342</td>\n",
              "      <td>0.947996</td>\n",
              "      <td>-0.339755</td>\n",
              "      <td>1.425000e+06</td>\n",
              "    </tr>\n",
              "  </tbody>\n",
              "</table>\n",
              "</div>"
            ],
            "text/plain": [
              "   total_ratings  singleplayer  multiplayer  ...   ratings     price   avg_revenue\n",
              "0      12.179710             0            1  ...  0.973888  0.059529  5.392500e+06\n",
              "1       0.287775             0            1  ...  0.839787 -0.339755  1.425000e+06\n",
              "2       0.274628             0            1  ...  0.895648 -0.339755  1.760294e+06\n",
              "3       0.056408             0            1  ...  0.826623 -0.339755  1.575000e+06\n",
              "4       0.440068             1            1  ...  0.947996 -0.339755  1.425000e+06\n",
              "\n",
              "[5 rows x 7 columns]"
            ]
          },
          "metadata": {
            "tags": []
          },
          "execution_count": 9
        }
      ]
    },
    {
      "cell_type": "code",
      "metadata": {
        "id": "xuFZVghiDplL",
        "colab_type": "code",
        "outputId": "49eab8cc-6008-4717-bf23-379e5cdf8b71",
        "colab": {
          "base_uri": "https://localhost:8080/",
          "height": 34
        }
      },
      "source": [
        "df.shape"
      ],
      "execution_count": 0,
      "outputs": [
        {
          "output_type": "execute_result",
          "data": {
            "text/plain": [
              "(24515, 7)"
            ]
          },
          "metadata": {
            "tags": []
          },
          "execution_count": 49
        }
      ]
    },
    {
      "cell_type": "markdown",
      "metadata": {
        "id": "Jnq-OS615qni",
        "colab_type": "text"
      },
      "source": [
        "### Binning data"
      ]
    },
    {
      "cell_type": "code",
      "metadata": {
        "id": "3D1iQHxXdwm_",
        "colab_type": "code",
        "outputId": "89ee0ea3-5f92-4acb-a12b-e85e140c1352",
        "colab": {
          "base_uri": "https://localhost:8080/",
          "height": 323
        }
      },
      "source": [
        "# Run this if rerunning binning\n",
        "\n",
        "#df.hist(column='avg_revenue', bins ='auto')\n",
        "to_drop = ['bin']\n",
        "df.drop(to_drop, inplace=True, axis=1)"
      ],
      "execution_count": 0,
      "outputs": [
        {
          "output_type": "error",
          "ename": "KeyError",
          "evalue": "ignored",
          "traceback": [
            "\u001b[0;31m---------------------------------------------------------------------------\u001b[0m",
            "\u001b[0;31mKeyError\u001b[0m                                  Traceback (most recent call last)",
            "\u001b[0;32m<ipython-input-36-346eab397b81>\u001b[0m in \u001b[0;36m<module>\u001b[0;34m()\u001b[0m\n\u001b[1;32m      1\u001b[0m \u001b[0mto_drop\u001b[0m \u001b[0;34m=\u001b[0m \u001b[0;34m[\u001b[0m\u001b[0;34m'bin'\u001b[0m\u001b[0;34m]\u001b[0m\u001b[0;34m\u001b[0m\u001b[0;34m\u001b[0m\u001b[0m\n\u001b[0;32m----> 2\u001b[0;31m \u001b[0mdf\u001b[0m\u001b[0;34m.\u001b[0m\u001b[0mdrop\u001b[0m\u001b[0;34m(\u001b[0m\u001b[0mto_drop\u001b[0m\u001b[0;34m,\u001b[0m \u001b[0minplace\u001b[0m\u001b[0;34m=\u001b[0m\u001b[0;32mTrue\u001b[0m\u001b[0;34m,\u001b[0m \u001b[0maxis\u001b[0m\u001b[0;34m=\u001b[0m\u001b[0;36m1\u001b[0m\u001b[0;34m)\u001b[0m\u001b[0;34m\u001b[0m\u001b[0;34m\u001b[0m\u001b[0m\n\u001b[0m",
            "\u001b[0;32m/usr/local/lib/python3.6/dist-packages/pandas/core/frame.py\u001b[0m in \u001b[0;36mdrop\u001b[0;34m(self, labels, axis, index, columns, level, inplace, errors)\u001b[0m\n\u001b[1;32m   4115\u001b[0m             \u001b[0mlevel\u001b[0m\u001b[0;34m=\u001b[0m\u001b[0mlevel\u001b[0m\u001b[0;34m,\u001b[0m\u001b[0;34m\u001b[0m\u001b[0;34m\u001b[0m\u001b[0m\n\u001b[1;32m   4116\u001b[0m             \u001b[0minplace\u001b[0m\u001b[0;34m=\u001b[0m\u001b[0minplace\u001b[0m\u001b[0;34m,\u001b[0m\u001b[0;34m\u001b[0m\u001b[0;34m\u001b[0m\u001b[0m\n\u001b[0;32m-> 4117\u001b[0;31m             \u001b[0merrors\u001b[0m\u001b[0;34m=\u001b[0m\u001b[0merrors\u001b[0m\u001b[0;34m,\u001b[0m\u001b[0;34m\u001b[0m\u001b[0;34m\u001b[0m\u001b[0m\n\u001b[0m\u001b[1;32m   4118\u001b[0m         )\n\u001b[1;32m   4119\u001b[0m \u001b[0;34m\u001b[0m\u001b[0m\n",
            "\u001b[0;32m/usr/local/lib/python3.6/dist-packages/pandas/core/generic.py\u001b[0m in \u001b[0;36mdrop\u001b[0;34m(self, labels, axis, index, columns, level, inplace, errors)\u001b[0m\n\u001b[1;32m   3912\u001b[0m         \u001b[0;32mfor\u001b[0m \u001b[0maxis\u001b[0m\u001b[0;34m,\u001b[0m \u001b[0mlabels\u001b[0m \u001b[0;32min\u001b[0m \u001b[0maxes\u001b[0m\u001b[0;34m.\u001b[0m\u001b[0mitems\u001b[0m\u001b[0;34m(\u001b[0m\u001b[0;34m)\u001b[0m\u001b[0;34m:\u001b[0m\u001b[0;34m\u001b[0m\u001b[0;34m\u001b[0m\u001b[0m\n\u001b[1;32m   3913\u001b[0m             \u001b[0;32mif\u001b[0m \u001b[0mlabels\u001b[0m \u001b[0;32mis\u001b[0m \u001b[0;32mnot\u001b[0m \u001b[0;32mNone\u001b[0m\u001b[0;34m:\u001b[0m\u001b[0;34m\u001b[0m\u001b[0;34m\u001b[0m\u001b[0m\n\u001b[0;32m-> 3914\u001b[0;31m                 \u001b[0mobj\u001b[0m \u001b[0;34m=\u001b[0m \u001b[0mobj\u001b[0m\u001b[0;34m.\u001b[0m\u001b[0m_drop_axis\u001b[0m\u001b[0;34m(\u001b[0m\u001b[0mlabels\u001b[0m\u001b[0;34m,\u001b[0m \u001b[0maxis\u001b[0m\u001b[0;34m,\u001b[0m \u001b[0mlevel\u001b[0m\u001b[0;34m=\u001b[0m\u001b[0mlevel\u001b[0m\u001b[0;34m,\u001b[0m \u001b[0merrors\u001b[0m\u001b[0;34m=\u001b[0m\u001b[0merrors\u001b[0m\u001b[0;34m)\u001b[0m\u001b[0;34m\u001b[0m\u001b[0;34m\u001b[0m\u001b[0m\n\u001b[0m\u001b[1;32m   3915\u001b[0m \u001b[0;34m\u001b[0m\u001b[0m\n\u001b[1;32m   3916\u001b[0m         \u001b[0;32mif\u001b[0m \u001b[0minplace\u001b[0m\u001b[0;34m:\u001b[0m\u001b[0;34m\u001b[0m\u001b[0;34m\u001b[0m\u001b[0m\n",
            "\u001b[0;32m/usr/local/lib/python3.6/dist-packages/pandas/core/generic.py\u001b[0m in \u001b[0;36m_drop_axis\u001b[0;34m(self, labels, axis, level, errors)\u001b[0m\n\u001b[1;32m   3944\u001b[0m                 \u001b[0mnew_axis\u001b[0m \u001b[0;34m=\u001b[0m \u001b[0maxis\u001b[0m\u001b[0;34m.\u001b[0m\u001b[0mdrop\u001b[0m\u001b[0;34m(\u001b[0m\u001b[0mlabels\u001b[0m\u001b[0;34m,\u001b[0m \u001b[0mlevel\u001b[0m\u001b[0;34m=\u001b[0m\u001b[0mlevel\u001b[0m\u001b[0;34m,\u001b[0m \u001b[0merrors\u001b[0m\u001b[0;34m=\u001b[0m\u001b[0merrors\u001b[0m\u001b[0;34m)\u001b[0m\u001b[0;34m\u001b[0m\u001b[0;34m\u001b[0m\u001b[0m\n\u001b[1;32m   3945\u001b[0m             \u001b[0;32melse\u001b[0m\u001b[0;34m:\u001b[0m\u001b[0;34m\u001b[0m\u001b[0;34m\u001b[0m\u001b[0m\n\u001b[0;32m-> 3946\u001b[0;31m                 \u001b[0mnew_axis\u001b[0m \u001b[0;34m=\u001b[0m \u001b[0maxis\u001b[0m\u001b[0;34m.\u001b[0m\u001b[0mdrop\u001b[0m\u001b[0;34m(\u001b[0m\u001b[0mlabels\u001b[0m\u001b[0;34m,\u001b[0m \u001b[0merrors\u001b[0m\u001b[0;34m=\u001b[0m\u001b[0merrors\u001b[0m\u001b[0;34m)\u001b[0m\u001b[0;34m\u001b[0m\u001b[0;34m\u001b[0m\u001b[0m\n\u001b[0m\u001b[1;32m   3947\u001b[0m             \u001b[0mresult\u001b[0m \u001b[0;34m=\u001b[0m \u001b[0mself\u001b[0m\u001b[0;34m.\u001b[0m\u001b[0mreindex\u001b[0m\u001b[0;34m(\u001b[0m\u001b[0;34m**\u001b[0m\u001b[0;34m{\u001b[0m\u001b[0maxis_name\u001b[0m\u001b[0;34m:\u001b[0m \u001b[0mnew_axis\u001b[0m\u001b[0;34m}\u001b[0m\u001b[0;34m)\u001b[0m\u001b[0;34m\u001b[0m\u001b[0;34m\u001b[0m\u001b[0m\n\u001b[1;32m   3948\u001b[0m \u001b[0;34m\u001b[0m\u001b[0m\n",
            "\u001b[0;32m/usr/local/lib/python3.6/dist-packages/pandas/core/indexes/base.py\u001b[0m in \u001b[0;36mdrop\u001b[0;34m(self, labels, errors)\u001b[0m\n\u001b[1;32m   5338\u001b[0m         \u001b[0;32mif\u001b[0m \u001b[0mmask\u001b[0m\u001b[0;34m.\u001b[0m\u001b[0many\u001b[0m\u001b[0;34m(\u001b[0m\u001b[0;34m)\u001b[0m\u001b[0;34m:\u001b[0m\u001b[0;34m\u001b[0m\u001b[0;34m\u001b[0m\u001b[0m\n\u001b[1;32m   5339\u001b[0m             \u001b[0;32mif\u001b[0m \u001b[0merrors\u001b[0m \u001b[0;34m!=\u001b[0m \u001b[0;34m\"ignore\"\u001b[0m\u001b[0;34m:\u001b[0m\u001b[0;34m\u001b[0m\u001b[0;34m\u001b[0m\u001b[0m\n\u001b[0;32m-> 5340\u001b[0;31m                 \u001b[0;32mraise\u001b[0m \u001b[0mKeyError\u001b[0m\u001b[0;34m(\u001b[0m\u001b[0;34m\"{} not found in axis\"\u001b[0m\u001b[0;34m.\u001b[0m\u001b[0mformat\u001b[0m\u001b[0;34m(\u001b[0m\u001b[0mlabels\u001b[0m\u001b[0;34m[\u001b[0m\u001b[0mmask\u001b[0m\u001b[0;34m]\u001b[0m\u001b[0;34m)\u001b[0m\u001b[0;34m)\u001b[0m\u001b[0;34m\u001b[0m\u001b[0;34m\u001b[0m\u001b[0m\n\u001b[0m\u001b[1;32m   5341\u001b[0m             \u001b[0mindexer\u001b[0m \u001b[0;34m=\u001b[0m \u001b[0mindexer\u001b[0m\u001b[0;34m[\u001b[0m\u001b[0;34m~\u001b[0m\u001b[0mmask\u001b[0m\u001b[0;34m]\u001b[0m\u001b[0;34m\u001b[0m\u001b[0;34m\u001b[0m\u001b[0m\n\u001b[1;32m   5342\u001b[0m         \u001b[0;32mreturn\u001b[0m \u001b[0mself\u001b[0m\u001b[0;34m.\u001b[0m\u001b[0mdelete\u001b[0m\u001b[0;34m(\u001b[0m\u001b[0mindexer\u001b[0m\u001b[0;34m)\u001b[0m\u001b[0;34m\u001b[0m\u001b[0;34m\u001b[0m\u001b[0m\n",
            "\u001b[0;31mKeyError\u001b[0m: \"['bin'] not found in axis\""
          ]
        }
      ]
    },
    {
      "cell_type": "code",
      "metadata": {
        "id": "qW4vrbvz1BzJ",
        "colab_type": "code",
        "outputId": "8c76ed36-07a6-429f-bdc9-9ebde648bed6",
        "colab": {
          "base_uri": "https://localhost:8080/",
          "height": 195
        }
      },
      "source": [
        "# Split into bins\n",
        "df.insert(7, 'bins', ' ', True) \n",
        "bin_num = np.linspace(start=0,stop=3,num=4)\n",
        "df.bins = pd.qcut(df.avg_revenue, q=4, labels=bin_num)\n",
        "\n",
        "#bins_revenue = [0, 10000, 50000, 200000, 1000000, 20000000, 700000000]\n",
        "#df.bins = pd.cut(df.avg_revenue, bins=bins_revenue, labels=bin_num)\n",
        "df['bins'] = df['bins'].astype(int)\n",
        "df.head()"
      ],
      "execution_count": 10,
      "outputs": [
        {
          "output_type": "execute_result",
          "data": {
            "text/html": [
              "<div>\n",
              "<style scoped>\n",
              "    .dataframe tbody tr th:only-of-type {\n",
              "        vertical-align: middle;\n",
              "    }\n",
              "\n",
              "    .dataframe tbody tr th {\n",
              "        vertical-align: top;\n",
              "    }\n",
              "\n",
              "    .dataframe thead th {\n",
              "        text-align: right;\n",
              "    }\n",
              "</style>\n",
              "<table border=\"1\" class=\"dataframe\">\n",
              "  <thead>\n",
              "    <tr style=\"text-align: right;\">\n",
              "      <th></th>\n",
              "      <th>total_ratings</th>\n",
              "      <th>singleplayer</th>\n",
              "      <th>multiplayer</th>\n",
              "      <th>achievements</th>\n",
              "      <th>ratings</th>\n",
              "      <th>price</th>\n",
              "      <th>avg_revenue</th>\n",
              "      <th>bins</th>\n",
              "    </tr>\n",
              "  </thead>\n",
              "  <tbody>\n",
              "    <tr>\n",
              "      <th>0</th>\n",
              "      <td>12.179710</td>\n",
              "      <td>0</td>\n",
              "      <td>1</td>\n",
              "      <td>-0.130342</td>\n",
              "      <td>0.973888</td>\n",
              "      <td>0.059529</td>\n",
              "      <td>5.392500e+06</td>\n",
              "      <td>3</td>\n",
              "    </tr>\n",
              "    <tr>\n",
              "      <th>1</th>\n",
              "      <td>0.287775</td>\n",
              "      <td>0</td>\n",
              "      <td>1</td>\n",
              "      <td>-0.130342</td>\n",
              "      <td>0.839787</td>\n",
              "      <td>-0.339755</td>\n",
              "      <td>1.425000e+06</td>\n",
              "      <td>3</td>\n",
              "    </tr>\n",
              "    <tr>\n",
              "      <th>2</th>\n",
              "      <td>0.274628</td>\n",
              "      <td>0</td>\n",
              "      <td>1</td>\n",
              "      <td>-0.130342</td>\n",
              "      <td>0.895648</td>\n",
              "      <td>-0.339755</td>\n",
              "      <td>1.760294e+06</td>\n",
              "      <td>3</td>\n",
              "    </tr>\n",
              "    <tr>\n",
              "      <th>3</th>\n",
              "      <td>0.056408</td>\n",
              "      <td>0</td>\n",
              "      <td>1</td>\n",
              "      <td>-0.130342</td>\n",
              "      <td>0.826623</td>\n",
              "      <td>-0.339755</td>\n",
              "      <td>1.575000e+06</td>\n",
              "      <td>3</td>\n",
              "    </tr>\n",
              "    <tr>\n",
              "      <th>4</th>\n",
              "      <td>0.440068</td>\n",
              "      <td>1</td>\n",
              "      <td>1</td>\n",
              "      <td>-0.130342</td>\n",
              "      <td>0.947996</td>\n",
              "      <td>-0.339755</td>\n",
              "      <td>1.425000e+06</td>\n",
              "      <td>3</td>\n",
              "    </tr>\n",
              "  </tbody>\n",
              "</table>\n",
              "</div>"
            ],
            "text/plain": [
              "   total_ratings  singleplayer  multiplayer  ...     price   avg_revenue  bins\n",
              "0      12.179710             0            1  ...  0.059529  5.392500e+06     3\n",
              "1       0.287775             0            1  ... -0.339755  1.425000e+06     3\n",
              "2       0.274628             0            1  ... -0.339755  1.760294e+06     3\n",
              "3       0.056408             0            1  ... -0.339755  1.575000e+06     3\n",
              "4       0.440068             1            1  ... -0.339755  1.425000e+06     3\n",
              "\n",
              "[5 rows x 8 columns]"
            ]
          },
          "metadata": {
            "tags": []
          },
          "execution_count": 10
        }
      ]
    },
    {
      "cell_type": "markdown",
      "metadata": {
        "id": "fNlFUcS8rrbP",
        "colab_type": "text"
      },
      "source": [
        "### Split data into training and test"
      ]
    },
    {
      "cell_type": "code",
      "metadata": {
        "id": "4brgufcKrBeq",
        "colab_type": "code",
        "colab": {}
      },
      "source": [
        "# split data\n",
        "X = df[['singleplayer', 'multiplayer', 'ratings', 'total_ratings', 'achievements', 'price']].values\n",
        "y = df['bins'].values\n",
        "\n",
        "X_train, X_val, y_train, y_val = train_test_split(X, y, test_size=0.4, shuffle='true')\n",
        "X_val, X_test, y_val, y_test = train_test_split(X_val, y_val, test_size=0.5, shuffle='true')"
      ],
      "execution_count": 0,
      "outputs": []
    },
    {
      "cell_type": "markdown",
      "metadata": {
        "id": "z2sQ0fl4yIIQ",
        "colab_type": "text"
      },
      "source": [
        "### Confusion Matrix Code"
      ]
    },
    {
      "cell_type": "code",
      "metadata": {
        "id": "AMc6cj32yM37",
        "colab_type": "code",
        "colab": {}
      },
      "source": [
        "def plot_confusion_matrix(cm,\n",
        "                          target_names,\n",
        "                          title='Confusion matrix',\n",
        "                          cmap=None,\n",
        "                          normalize=True):\n",
        "    \"\"\"\n",
        "    given a sklearn confusion matrix (cm), make a nice plot\n",
        "\n",
        "    Arguments\n",
        "    ---------\n",
        "    cm:           confusion matrix from sklearn.metrics.confusion_matrix\n",
        "\n",
        "    target_names: given classification classes such as [0, 1, 2]\n",
        "                  the class names, for example: ['high', 'medium', 'low']\n",
        "\n",
        "    title:        the text to display at the top of the matrix\n",
        "\n",
        "    cmap:         the gradient of the values displayed from matplotlib.pyplot.cm\n",
        "                  see http://matplotlib.org/examples/color/colormaps_reference.html\n",
        "                  plt.get_cmap('jet') or plt.cm.Blues\n",
        "\n",
        "    normalize:    If False, plot the raw numbers\n",
        "                  If True, plot the proportions\n",
        "\n",
        "    Usage\n",
        "    -----\n",
        "    plot_confusion_matrix(cm           = cm,                  # confusion matrix created by\n",
        "                                                              # sklearn.metrics.confusion_matrix\n",
        "                          normalize    = True,                # show proportions\n",
        "                          target_names = y_labels_vals,       # list of names of the classes\n",
        "                          title        = best_estimator_name) # title of graph\n",
        "\n",
        "    Citiation\n",
        "    ---------\n",
        "    http://scikit-learn.org/stable/auto_examples/model_selection/plot_confusion_matrix.html\n",
        "\n",
        "    \"\"\"\n",
        "    import matplotlib.pyplot as plt\n",
        "    import numpy as np\n",
        "    import itertools\n",
        "\n",
        "    accuracy = np.trace(cm) / float(np.sum(cm))\n",
        "    misclass = 1 - accuracy\n",
        "\n",
        "    if cmap is None:\n",
        "        cmap = plt.get_cmap('Blues')\n",
        "\n",
        "    plt.figure(figsize=(8, 6))\n",
        "    plt.imshow(cm, interpolation='nearest', cmap=cmap)\n",
        "    plt.title(title)\n",
        "    plt.colorbar()\n",
        "\n",
        "    if target_names is not None:\n",
        "        tick_marks = np.arange(len(target_names))\n",
        "        plt.xticks(tick_marks, target_names, rotation=45)\n",
        "        plt.yticks(tick_marks, target_names)\n",
        "\n",
        "    if normalize:\n",
        "        cm = cm.astype('float') / cm.sum(axis=1)[:, np.newaxis]\n",
        "\n",
        "\n",
        "    thresh = cm.max() / 1.5 if normalize else cm.max() / 2\n",
        "    for i, j in itertools.product(range(cm.shape[0]), range(cm.shape[1])):\n",
        "        if normalize:\n",
        "            plt.text(j, i, \"{:0.4f}\".format(cm[i, j]),\n",
        "                     horizontalalignment=\"center\",\n",
        "                     color=\"white\" if cm[i, j] > thresh else \"black\")\n",
        "        else:\n",
        "            plt.text(j, i, \"{:,}\".format(cm[i, j]),\n",
        "                     horizontalalignment=\"center\",\n",
        "                     color=\"white\" if cm[i, j] > thresh else \"black\")\n",
        "\n",
        "\n",
        "    plt.tight_layout()\n",
        "    plt.ylabel('True label')\n",
        "    plt.xlabel('Predicted label\\naccuracy={:0.4f}; misclass={:0.4f}'.format(accuracy, misclass))\n",
        "    plt.show()"
      ],
      "execution_count": 0,
      "outputs": []
    },
    {
      "cell_type": "markdown",
      "metadata": {
        "id": "5b1qIlT4vnpP",
        "colab_type": "text"
      },
      "source": [
        "### 0. Linear Regression"
      ]
    },
    {
      "cell_type": "code",
      "metadata": {
        "id": "NcmDXUzuvy4t",
        "colab_type": "code",
        "outputId": "9df840a3-b36f-4715-c6cf-7ecaff976d7d",
        "colab": {
          "base_uri": "https://localhost:8080/",
          "height": 85
        }
      },
      "source": [
        "reg = LinearRegression()\n",
        "reg.fit(X_train, y_train)\n",
        "y_pred = reg.predict(X_train)\n",
        "y_pred = np.exp(y_pred)\n",
        "\n",
        "print('Mean Absolute Error:', metrics.mean_absolute_error(np.exp(y_train), y_pred))  \n",
        "print('Mean Squared Error:', metrics.mean_squared_error(np.exp(y_train), y_pred))  \n",
        "print('Root Mean Squared Error:', np.sqrt(metrics.mean_squared_error(np.exp(y_train), y_pred)))\n",
        "print('Variance score: %.2f' % metrics.r2_score(np.exp(y_train), y_pred))"
      ],
      "execution_count": 0,
      "outputs": [
        {
          "output_type": "stream",
          "text": [
            "Mean Absolute Error: 39919660.27567719\n",
            "Mean Squared Error: 2.3411147570629304e+19\n",
            "Root Mean Squared Error: 4838506750.086157\n",
            "Variance score: -418001030852263552.00\n"
          ],
          "name": "stdout"
        }
      ]
    },
    {
      "cell_type": "code",
      "metadata": {
        "id": "umSW82sVFqbM",
        "colab_type": "code",
        "outputId": "b9eeaeb1-aa3f-4b2e-bfeb-ca60f03a5bd8",
        "colab": {
          "base_uri": "https://localhost:8080/",
          "height": 51
        }
      },
      "source": [
        "y_pred"
      ],
      "execution_count": 0,
      "outputs": [
        {
          "output_type": "execute_result",
          "data": {
            "text/plain": [
              "array([3.50927335, 4.01526026, 4.00626693, ..., 5.36967911, 5.67178216,\n",
              "       3.66764112])"
            ]
          },
          "metadata": {
            "tags": []
          },
          "execution_count": 15
        }
      ]
    },
    {
      "cell_type": "code",
      "metadata": {
        "id": "vGl9LrboFsdS",
        "colab_type": "code",
        "outputId": "451785ef-854e-4b85-d7e0-c3c5dacdc2ca",
        "colab": {
          "base_uri": "https://localhost:8080/",
          "height": 51
        }
      },
      "source": [
        "np.exp(y_train)"
      ],
      "execution_count": 0,
      "outputs": [
        {
          "output_type": "execute_result",
          "data": {
            "text/plain": [
              "array([20.08553692,  2.71828183,  2.71828183, ...,  7.3890561 ,\n",
              "        7.3890561 , 20.08553692])"
            ]
          },
          "metadata": {
            "tags": []
          },
          "execution_count": 16
        }
      ]
    },
    {
      "cell_type": "code",
      "metadata": {
        "id": "2uUNuLwVFzpT",
        "colab_type": "code",
        "outputId": "afc65e3d-1e25-400b-eb0d-9bcbd211871d",
        "colab": {
          "base_uri": "https://localhost:8080/",
          "height": 85
        }
      },
      "source": [
        "y_pred = reg.predict(X_test)\n",
        "\n",
        "print('Mean Absolute Error:', metrics.mean_absolute_error(y_val, y_pred))  \n",
        "print('Mean Squared Error:', metrics.mean_squared_error(y_val, y_pred))  \n",
        "print('Root Mean Squared Error:', np.sqrt(metrics.mean_squared_error(y_val, y_pred)))\n",
        "print('Variance score: %.2f' % metrics.r2_score(y_val, y_pred))"
      ],
      "execution_count": 0,
      "outputs": [
        {
          "output_type": "stream",
          "text": [
            "Mean Absolute Error: 1.0515304969275525\n",
            "Mean Squared Error: 1.5497007278966493\n",
            "Root Mean Squared Error: 1.2448697634277448\n",
            "Variance score: -0.22\n"
          ],
          "name": "stdout"
        }
      ]
    },
    {
      "cell_type": "markdown",
      "metadata": {
        "id": "w3kqy0tDf0_o",
        "colab_type": "text"
      },
      "source": [
        "### 1. Logistic Regression"
      ]
    },
    {
      "cell_type": "code",
      "metadata": {
        "id": "7TQ9Huj6i_7i",
        "colab_type": "code",
        "outputId": "db2775c2-cd07-413d-9050-576b21951575",
        "colab": {
          "base_uri": "https://localhost:8080/",
          "height": 101
        }
      },
      "source": [
        "# Log reg\n",
        "\n",
        "# Fit to training set\n",
        "model = LogisticRegression(solver='saga', multi_class='multinomial', max_iter=3000)\n",
        "model.fit(X_train,y_train)"
      ],
      "execution_count": 12,
      "outputs": [
        {
          "output_type": "execute_result",
          "data": {
            "text/plain": [
              "LogisticRegression(C=1.0, class_weight=None, dual=False, fit_intercept=True,\n",
              "                   intercept_scaling=1, l1_ratio=None, max_iter=3000,\n",
              "                   multi_class='multinomial', n_jobs=None, penalty='l2',\n",
              "                   random_state=None, solver='saga', tol=0.0001, verbose=0,\n",
              "                   warm_start=False)"
            ]
          },
          "metadata": {
            "tags": []
          },
          "execution_count": 12
        }
      ]
    },
    {
      "cell_type": "code",
      "metadata": {
        "id": "0qF_hEwzCupj",
        "colab_type": "code",
        "outputId": "576207eb-fb57-4ffe-ac8c-a0e72a9ed782",
        "colab": {
          "base_uri": "https://localhost:8080/",
          "height": 84
        }
      },
      "source": [
        "# Predictions on training set\n",
        "y_pred_train = model.predict(X_train)\n",
        "metrics.confusion_matrix(y_train, y_pred_train, labels=[0, 1, 2, 3])\n",
        "# pd.crosstab(y_train, y_pred, rownames=['True'], colnames=['Predicted'], margins=True)"
      ],
      "execution_count": 13,
      "outputs": [
        {
          "output_type": "execute_result",
          "data": {
            "text/plain": [
              "array([[3249,  579,   36,    0],\n",
              "       [1051, 1778,  879,   34],\n",
              "       [ 291, 1101, 1628,  432],\n",
              "       [ 196,  333,  635, 2487]])"
            ]
          },
          "metadata": {
            "tags": []
          },
          "execution_count": 13
        }
      ]
    },
    {
      "cell_type": "code",
      "metadata": {
        "id": "RfWplIIOgSq_",
        "colab_type": "code",
        "outputId": "99cdca1c-6254-4e55-f6e8-748fce605159",
        "colab": {
          "base_uri": "https://localhost:8080/",
          "height": 34
        }
      },
      "source": [
        "metrics.f1_score(y_train, y_pred_train, average='micro') "
      ],
      "execution_count": 14,
      "outputs": [
        {
          "output_type": "execute_result",
          "data": {
            "text/plain": [
              "0.6215242368617853"
            ]
          },
          "metadata": {
            "tags": []
          },
          "execution_count": 14
        }
      ]
    },
    {
      "cell_type": "code",
      "metadata": {
        "id": "xZGa8KF2Mmop",
        "colab_type": "code",
        "outputId": "82dc15ed-1589-4adb-af38-27bc056fea9a",
        "colab": {
          "base_uri": "https://localhost:8080/",
          "height": 34
        }
      },
      "source": [
        "y_train_b = label_binarize(y_train, bin_num)\n",
        "y_pred_train_b = label_binarize(y_pred_train, bin_num)\n",
        "roc_auc_score(y_train_b, y_pred_train_b)"
      ],
      "execution_count": 15,
      "outputs": [
        {
          "output_type": "execute_result",
          "data": {
            "text/plain": [
              "0.7454473364354017"
            ]
          },
          "metadata": {
            "tags": []
          },
          "execution_count": 15
        }
      ]
    },
    {
      "cell_type": "code",
      "metadata": {
        "id": "8sJVlq3yzoq5",
        "colab_type": "code",
        "outputId": "0dfd800c-1a32-4829-e619-a51325aa9bde",
        "colab": {
          "base_uri": "https://localhost:8080/",
          "height": 84
        }
      },
      "source": [
        "# Predictions on val set\n",
        "y_pred_val = model.predict(X_val)\n",
        "metrics.confusion_matrix(y_val, y_pred_val, labels=[0, 1, 2, 3])"
      ],
      "execution_count": 16,
      "outputs": [
        {
          "output_type": "execute_result",
          "data": {
            "text/plain": [
              "array([[1096,  195,   16,    1],\n",
              "       [ 343,  584,  272,    9],\n",
              "       [ 120,  359,  542,  125],\n",
              "       [  55,  113,  206,  867]])"
            ]
          },
          "metadata": {
            "tags": []
          },
          "execution_count": 16
        }
      ]
    },
    {
      "cell_type": "code",
      "metadata": {
        "id": "Py28X5rSWKR_",
        "colab_type": "code",
        "outputId": "88a09223-2354-46b7-dc98-3335f6dc1127",
        "colab": {
          "base_uri": "https://localhost:8080/",
          "height": 34
        }
      },
      "source": [
        "metrics.f1_score(y_val, y_pred_val, average='micro') "
      ],
      "execution_count": 17,
      "outputs": [
        {
          "output_type": "execute_result",
          "data": {
            "text/plain": [
              "0.6300224352437284"
            ]
          },
          "metadata": {
            "tags": []
          },
          "execution_count": 17
        }
      ]
    },
    {
      "cell_type": "code",
      "metadata": {
        "id": "4vrTNz0kNDUN",
        "colab_type": "code",
        "outputId": "386e3292-6f24-4be4-a496-9035eb6795fb",
        "colab": {
          "base_uri": "https://localhost:8080/",
          "height": 34
        }
      },
      "source": [
        "y_val_b = label_binarize(y_val, bin_num)\n",
        "y_pred_val_b = label_binarize(y_pred_val, bin_num)\n",
        "roc_auc_score(y_val_b, y_pred_val_b)"
      ],
      "execution_count": 18,
      "outputs": [
        {
          "output_type": "execute_result",
          "data": {
            "text/plain": [
              "0.7499984391067278"
            ]
          },
          "metadata": {
            "tags": []
          },
          "execution_count": 18
        }
      ]
    },
    {
      "cell_type": "code",
      "metadata": {
        "id": "a_0jKYsEv0Vi",
        "colab_type": "code",
        "colab": {
          "base_uri": "https://localhost:8080/",
          "height": 84
        },
        "outputId": "9fdc9a33-37ec-4250-cfc5-ed741c8a3d95"
      },
      "source": [
        "# Test set\n",
        "y_pred_test = model.predict(X_test)\n",
        "metrics.confusion_matrix(y_test, y_pred_test, labels=[0, 1, 2, 3])"
      ],
      "execution_count": 19,
      "outputs": [
        {
          "output_type": "execute_result",
          "data": {
            "text/plain": [
              "array([[1057,  180,   11,    0],\n",
              "       [ 374,  587,  292,    7],\n",
              "       [  96,  392,  530,  140],\n",
              "       [  62,  110,  204,  861]])"
            ]
          },
          "metadata": {
            "tags": []
          },
          "execution_count": 19
        }
      ]
    },
    {
      "cell_type": "code",
      "metadata": {
        "id": "Ns3Iz-X5v37E",
        "colab_type": "code",
        "colab": {
          "base_uri": "https://localhost:8080/",
          "height": 34
        },
        "outputId": "e708878b-3010-45e0-c065-2ff67dab7624"
      },
      "source": [
        "metrics.f1_score(y_test, y_pred_test, average='micro') "
      ],
      "execution_count": 20,
      "outputs": [
        {
          "output_type": "execute_result",
          "data": {
            "text/plain": [
              "0.6190087701407302"
            ]
          },
          "metadata": {
            "tags": []
          },
          "execution_count": 20
        }
      ]
    },
    {
      "cell_type": "code",
      "metadata": {
        "id": "c400zcD-v6GL",
        "colab_type": "code",
        "colab": {
          "base_uri": "https://localhost:8080/",
          "height": 34
        },
        "outputId": "b73ede2a-863f-4cd2-e1b8-d1bc58f341b7"
      },
      "source": [
        "y_test_b = label_binarize(y_test, bin_num)\n",
        "y_pred_test_b = label_binarize(y_pred_test, bin_num)\n",
        "roc_auc_score(y_test_b, y_pred_test_b)"
      ],
      "execution_count": 21,
      "outputs": [
        {
          "output_type": "execute_result",
          "data": {
            "text/plain": [
              "0.7447889406525484"
            ]
          },
          "metadata": {
            "tags": []
          },
          "execution_count": 21
        }
      ]
    },
    {
      "cell_type": "code",
      "metadata": {
        "id": "Z67PSmWsx2Xy",
        "colab_type": "code",
        "colab": {
          "base_uri": "https://localhost:8080/",
          "height": 458
        },
        "outputId": "c4f909ba-bd56-4242-ad3c-6fdc79459dc8"
      },
      "source": [
        "# Plot normalized confusion matrix\n",
        "plt.figure()\n",
        "cm = metrics.confusion_matrix(y_test, y_pred_test, labels=[0, 1, 2, 3])\n",
        "# cm = cm.astype('float') / cm.sum(axis=1)[:, np.newaxis]\n",
        "plot_confusion_matrix(cm, normalize=True, target_names=['0','1','2','3'],\n",
        "                      title='Normalized confusion matrix')\n",
        "plt.show()"
      ],
      "execution_count": 34,
      "outputs": [
        {
          "output_type": "display_data",
          "data": {
            "text/plain": [
              "<Figure size 432x288 with 0 Axes>"
            ]
          },
          "metadata": {
            "tags": []
          }
        },
        {
          "output_type": "display_data",
          "data": {
            "image/png": "[encoded data removed]",
            "text/plain": [
              "<Figure size 576x432 with 2 Axes>"
            ]
          },
          "metadata": {
            "tags": []
          }
        }
      ]
    },
    {
      "cell_type": "code",
      "metadata": {
        "id": "65ErWW_sxMG9",
        "colab_type": "code",
        "colab": {
          "base_uri": "https://localhost:8080/",
          "height": 450
        },
        "outputId": "ddc12421-1067-469e-dab3-a9ee8b0f8a37"
      },
      "source": [
        "#array = metrics.confusion_matrix(y_test, y_pred_test, labels=[0, 1, 2, 3])\n",
        "#df_cm = pd.DataFrame(array, index = [i for i in \"0123\"],\n",
        "#                  columns = [i for i in \"0123\"])\n",
        "#plt.figure(figsize = (10,7))\n",
        "#sn.heatmap(df_cm, annot=True)"
      ],
      "execution_count": 24,
      "outputs": [
        {
          "output_type": "execute_result",
          "data": {
            "text/plain": [
              "<matplotlib.axes._subplots.AxesSubplot at 0x7f0da4e871d0>"
            ]
          },
          "metadata": {
            "tags": []
          },
          "execution_count": 24
        },
        {
          "output_type": "display_data",
          "data": {
            "image/png": "[encoded data removed]",
            "text/plain": [
              "<Figure size 720x504 with 2 Axes>"
            ]
          },
          "metadata": {
            "tags": []
          }
        }
      ]
    },
    {
      "cell_type": "code",
      "metadata": {
        "id": "gHL0-rx_fnXv",
        "colab_type": "code",
        "outputId": "10a40618-d32e-4e4a-deb3-aa3aa3e7c347",
        "colab": {
          "base_uri": "https://localhost:8080/",
          "height": 286
        }
      },
      "source": [
        "# Learning Curve\n",
        "\n",
        "# Learning curve\n",
        "iter_num = np.linspace(start=1000,stop=2000,num=9)\n",
        "f1_array_train = np.zeros(10)\n",
        "f1_array_val = np.zeros(10)\n",
        "\n",
        "for i in iter_num:\n",
        "  model = LogisticRegression(solver='saga', multi_class='multinomial', max_iter=i)\n",
        "  model.fit(X_train,y_train)\n",
        "\n",
        "  # training set\n",
        "  y_pred = model.predict(X_train)\n",
        "  f1_array_train[i] = metrics.f1_score(y_train, y_pred, average='micro') \n",
        "  \n",
        "  # val set\n",
        "  y_val_pred = model.predict(X_val)\n",
        "  f1_array_val = metrics.f1_score(y_train, y_val_pred, average='micro')"
      ],
      "execution_count": 0,
      "outputs": [
        {
          "output_type": "stream",
          "text": [
            "/usr/local/lib/python3.6/dist-packages/sklearn/linear_model/sag.py:337: ConvergenceWarning: The max_iter was reached which means the coef_ did not converge\n",
            "  \"the coef_ did not converge\", ConvergenceWarning)\n"
          ],
          "name": "stderr"
        },
        {
          "output_type": "error",
          "ename": "IndexError",
          "evalue": "ignored",
          "traceback": [
            "\u001b[0;31m---------------------------------------------------------------------------\u001b[0m",
            "\u001b[0;31mIndexError\u001b[0m                                Traceback (most recent call last)",
            "\u001b[0;32m<ipython-input-25-b131fc3108ee>\u001b[0m in \u001b[0;36m<module>\u001b[0;34m()\u001b[0m\n\u001b[1;32m      9\u001b[0m   \u001b[0;31m# training set\u001b[0m\u001b[0;34m\u001b[0m\u001b[0;34m\u001b[0m\u001b[0;34m\u001b[0m\u001b[0m\n\u001b[1;32m     10\u001b[0m   \u001b[0my_pred\u001b[0m \u001b[0;34m=\u001b[0m \u001b[0mmodel\u001b[0m\u001b[0;34m.\u001b[0m\u001b[0mpredict\u001b[0m\u001b[0;34m(\u001b[0m\u001b[0mX_train\u001b[0m\u001b[0;34m)\u001b[0m\u001b[0;34m\u001b[0m\u001b[0;34m\u001b[0m\u001b[0m\n\u001b[0;32m---> 11\u001b[0;31m   \u001b[0mf1_array_train\u001b[0m\u001b[0;34m[\u001b[0m\u001b[0mi\u001b[0m\u001b[0;34m]\u001b[0m \u001b[0;34m=\u001b[0m \u001b[0mmetrics\u001b[0m\u001b[0;34m.\u001b[0m\u001b[0mf1_score\u001b[0m\u001b[0;34m(\u001b[0m\u001b[0my_train\u001b[0m\u001b[0;34m,\u001b[0m \u001b[0my_pred\u001b[0m\u001b[0;34m,\u001b[0m \u001b[0maverage\u001b[0m\u001b[0;34m=\u001b[0m\u001b[0;34m'micro'\u001b[0m\u001b[0;34m)\u001b[0m\u001b[0;34m\u001b[0m\u001b[0;34m\u001b[0m\u001b[0m\n\u001b[0m\u001b[1;32m     12\u001b[0m \u001b[0;34m\u001b[0m\u001b[0m\n\u001b[1;32m     13\u001b[0m   \u001b[0;31m# val set\u001b[0m\u001b[0;34m\u001b[0m\u001b[0;34m\u001b[0m\u001b[0;34m\u001b[0m\u001b[0m\n",
            "\u001b[0;31mIndexError\u001b[0m: only integers, slices (`:`), ellipsis (`...`), numpy.newaxis (`None`) and integer or boolean arrays are valid indices"
          ]
        }
      ]
    },
    {
      "cell_type": "code",
      "metadata": {
        "id": "rh6llD3FhWes",
        "colab_type": "code",
        "outputId": "327f25b3-3787-4f7c-8be3-24f11271522a",
        "colab": {
          "base_uri": "https://localhost:8080/",
          "height": 34
        }
      },
      "source": [
        "iter_num = np.linspace(start=1000,stop=2000,num=9)\n",
        "iter_num"
      ],
      "execution_count": 0,
      "outputs": [
        {
          "output_type": "execute_result",
          "data": {
            "text/plain": [
              "array([1000., 1125., 1250., 1375., 1500., 1625., 1750., 1875., 2000.])"
            ]
          },
          "metadata": {
            "tags": []
          },
          "execution_count": 26
        }
      ]
    },
    {
      "cell_type": "markdown",
      "metadata": {
        "id": "OCwGpMnQgA66",
        "colab_type": "text"
      },
      "source": [
        "### 2. Neural Net"
      ]
    },
    {
      "cell_type": "code",
      "metadata": {
        "id": "U1dfS3zRHiMO",
        "colab_type": "code",
        "outputId": "a0b7ea5f-2bb6-47ff-d345-6f62d69c46b3",
        "colab": {
          "base_uri": "https://localhost:8080/",
          "height": 136
        }
      },
      "source": [
        "# Neural Net\n",
        "scaler = StandardScaler()\n",
        "scaler.fit(X_train)\n",
        "X_train = scaler.transform(X_train)\n",
        "X_val = scaler.transform(X_val)\n",
        "mlp = MLPClassifier(hidden_layer_sizes=(100, 100, 100, 100),max_iter=800)\n",
        "mlp.fit(X_train,y_train)"
      ],
      "execution_count": 0,
      "outputs": [
        {
          "output_type": "execute_result",
          "data": {
            "text/plain": [
              "MLPClassifier(activation='relu', alpha=0.0001, batch_size='auto', beta_1=0.9,\n",
              "              beta_2=0.999, early_stopping=False, epsilon=1e-08,\n",
              "              hidden_layer_sizes=(100, 100, 100), learning_rate='constant',\n",
              "              learning_rate_init=0.001, max_iter=800, momentum=0.9,\n",
              "              n_iter_no_change=10, nesterovs_momentum=True, power_t=0.5,\n",
              "              random_state=None, shuffle=True, solver='adam', tol=0.0001,\n",
              "              validation_fraction=0.1, verbose=False, warm_start=False)"
            ]
          },
          "metadata": {
            "tags": []
          },
          "execution_count": 62
        }
      ]
    },
    {
      "cell_type": "code",
      "metadata": {
        "id": "PVyL3aLPN3wP",
        "colab_type": "code",
        "outputId": "2078a64f-3738-4488-b3d8-d02dce31da1b",
        "colab": {
          "base_uri": "https://localhost:8080/",
          "height": 85
        }
      },
      "source": [
        "# training set prediction\n",
        "y_pred_train = mlp.predict(X_train)\n",
        "metrics.confusion_matrix(y_train, y_pred_train, labels=[0, 1, 2, 3])"
      ],
      "execution_count": 0,
      "outputs": [
        {
          "output_type": "execute_result",
          "data": {
            "text/plain": [
              "array([[3191,  476,   62,   49],\n",
              "       [ 933, 2129,  513,  139],\n",
              "       [ 211,  652, 2122,  474],\n",
              "       [  90,  125,  603, 2940]])"
            ]
          },
          "metadata": {
            "tags": []
          },
          "execution_count": 63
        }
      ]
    },
    {
      "cell_type": "code",
      "metadata": {
        "id": "r_8rmaL2OJ3q",
        "colab_type": "code",
        "outputId": "470c93ec-2239-4c74-b4bc-5758c76b2a00",
        "colab": {
          "base_uri": "https://localhost:8080/",
          "height": 34
        }
      },
      "source": [
        "metrics.f1_score(y_train, y_pred_train, average='micro') "
      ],
      "execution_count": 0,
      "outputs": [
        {
          "output_type": "execute_result",
          "data": {
            "text/plain": [
              "0.7058263648106602"
            ]
          },
          "metadata": {
            "tags": []
          },
          "execution_count": 64
        }
      ]
    },
    {
      "cell_type": "code",
      "metadata": {
        "id": "sI9oeHRUS6sx",
        "colab_type": "code",
        "outputId": "05f778d6-570c-4e56-c61a-d124988a99dd",
        "colab": {
          "base_uri": "https://localhost:8080/",
          "height": 34
        }
      },
      "source": [
        "y_train_b = label_binarize(y_train, bin_num)\n",
        "y_pred_train_b = label_binarize(y_pred_train, bin_num)\n",
        "roc_auc_score(y_train_b, y_pred_train_b)"
      ],
      "execution_count": 0,
      "outputs": [
        {
          "output_type": "execute_result",
          "data": {
            "text/plain": [
              "0.8027066586948616"
            ]
          },
          "metadata": {
            "tags": []
          },
          "execution_count": 65
        }
      ]
    },
    {
      "cell_type": "code",
      "metadata": {
        "id": "LA0osAqiOMXz",
        "colab_type": "code",
        "outputId": "5a257a98-d2d8-4c38-ccd3-dedfe51e424b",
        "colab": {
          "base_uri": "https://localhost:8080/",
          "height": 85
        }
      },
      "source": [
        "# val set prediction\n",
        "y_val_pred = mlp.predict(X_val)\n",
        "metrics.confusion_matrix(y_val, y_val_pred, labels=[0, 1, 2, 3])"
      ],
      "execution_count": 0,
      "outputs": [
        {
          "output_type": "execute_result",
          "data": {
            "text/plain": [
              "array([[1091,  171,   47,   17],\n",
              "       [ 318,  693,  211,   43],\n",
              "       [  85,  238,  670,  167],\n",
              "       [  26,   39,  216,  871]])"
            ]
          },
          "metadata": {
            "tags": []
          },
          "execution_count": 66
        }
      ]
    },
    {
      "cell_type": "code",
      "metadata": {
        "id": "Q0xQBQRmOfgc",
        "colab_type": "code",
        "outputId": "daac5a92-9814-4c59-fe0c-1430977e5bd0",
        "colab": {
          "base_uri": "https://localhost:8080/",
          "height": 34
        }
      },
      "source": [
        "metrics.f1_score(y_val, y_val_pred, average='micro') "
      ],
      "execution_count": 0,
      "outputs": [
        {
          "output_type": "execute_result",
          "data": {
            "text/plain": [
              "0.6746889659392209"
            ]
          },
          "metadata": {
            "tags": []
          },
          "execution_count": 61
        }
      ]
    },
    {
      "cell_type": "code",
      "metadata": {
        "id": "607DDHsiS9El",
        "colab_type": "code",
        "outputId": "848e7e75-e86f-4017-bb2b-94b736d23b13",
        "colab": {
          "base_uri": "https://localhost:8080/",
          "height": 34
        }
      },
      "source": [
        "y_val_b = label_binarize(y_val, bin_num)\n",
        "y_pred_val_b = label_binarize(y_val_pred, bin_num)\n",
        "roc_auc_score(y_val_b, y_pred_val_b)"
      ],
      "execution_count": 0,
      "outputs": [
        {
          "output_type": "execute_result",
          "data": {
            "text/plain": [
              "0.7936066504230048"
            ]
          },
          "metadata": {
            "tags": []
          },
          "execution_count": 33
        }
      ]
    },
    {
      "cell_type": "code",
      "metadata": {
        "id": "3KRrYs6jzkxK",
        "colab_type": "code",
        "colab": {}
      },
      "source": [
        "# Test set\n",
        "y_pred_test = model.predict(X_test)\n",
        "metrics.confusion_matrix(y_test, y_pred_test, labels=[0, 1, 2, 3])"
      ],
      "execution_count": 0,
      "outputs": []
    },
    {
      "cell_type": "code",
      "metadata": {
        "id": "4rKZJ340zmlv",
        "colab_type": "code",
        "colab": {}
      },
      "source": [
        "metrics.f1_score(y_test, y_pred_test, average='micro') "
      ],
      "execution_count": 0,
      "outputs": []
    },
    {
      "cell_type": "code",
      "metadata": {
        "id": "u4rwSiCZzlnd",
        "colab_type": "code",
        "colab": {}
      },
      "source": [
        "y_test_b = label_binarize(y_test, bin_num)\n",
        "y_pred_test_b = label_binarize(y_pred_test, bin_num)\n",
        "roc_auc_score(y_test_b, y_pred_test_b)"
      ],
      "execution_count": 0,
      "outputs": []
    },
    {
      "cell_type": "code",
      "metadata": {
        "id": "PyiKeGojzsX6",
        "colab_type": "code",
        "colab": {}
      },
      "source": [
        "# Plot normalized confusion matrix\n",
        "plt.figure()\n",
        "cm = metrics.confusion_matrix(y_test, y_pred_test, labels=[0, 1, 2, 3])\n",
        "# cm = cm.astype('float') / cm.sum(axis=1)[:, np.newaxis]\n",
        "plot_confusion_matrix(cm, normalize=True, target_names=['0','1','2','3'],\n",
        "                      title='Normalized confusion matrix')\n",
        "plt.show()"
      ],
      "execution_count": 0,
      "outputs": []
    },
    {
      "cell_type": "code",
      "metadata": {
        "id": "Mckw41-6OhlE",
        "colab_type": "code",
        "outputId": "c2db10dc-f100-4e78-8d92-038383d63b1f",
        "colab": {
          "base_uri": "https://localhost:8080/",
          "height": 85
        }
      },
      "source": [
        "# Learning curve\n",
        "node_num = np.zeros(10)\n",
        "f1_array_train = np.zeros(10)\n",
        "f1_array_val = np.zeros(10)\n",
        "\n",
        "for i in range(0,10):\n",
        "  j = (i+1)*10\n",
        "  mlp = MLPClassifier(hidden_layer_sizes=(j, j, j, j),max_iter=1000)\n",
        "  mlp.fit(X_train,y_train)\n",
        "\n",
        "  # training set\n",
        "  y_pred = mlp.predict(X_train)\n",
        "  f1_array_train[i] = metrics.f1_score(y_train, y_pred, average='micro') \n",
        "  \n",
        "  # val set\n",
        "  y_val_pred = mlp.predict(X_val)\n",
        "  f1_array_val[i] = metrics.f1_score(y_val, y_val_pred, average='micro') "
      ],
      "execution_count": 0,
      "outputs": [
        {
          "output_type": "stream",
          "text": [
            "/usr/local/lib/python3.6/dist-packages/sklearn/neural_network/multilayer_perceptron.py:568: UserWarning: Training interrupted by user.\n",
            "  warnings.warn(\"Training interrupted by user.\")\n",
            "/usr/local/lib/python3.6/dist-packages/sklearn/neural_network/multilayer_perceptron.py:568: UserWarning: Training interrupted by user.\n",
            "  warnings.warn(\"Training interrupted by user.\")\n"
          ],
          "name": "stderr"
        }
      ]
    },
    {
      "cell_type": "code",
      "metadata": {
        "id": "wU1WnUm3O04R",
        "colab_type": "code",
        "outputId": "6d3239ac-5a3a-4b33-f70f-fd67d35f3455",
        "colab": {
          "base_uri": "https://localhost:8080/",
          "height": 295
        }
      },
      "source": [
        "plt.plot([10, 20, 30, 40, 50, 60, 70, 80, 90, 100], f1_array_train, label='Training Set')\n",
        "plt.plot([10, 20, 30, 40, 50, 60, 70, 80, 90, 100], f1_array_val, label='Test Set')\n",
        "plt.xlabel('Nodes in Neural Network')\n",
        "plt.ylabel('F1 Score')\n",
        "plt.title('Learning Curve for Neural Network')\n",
        "plt.legend()\n",
        "plt.show()"
      ],
      "execution_count": 0,
      "outputs": [
        {
          "output_type": "display_data",
          "data": {
            "image/png": "[encoded data removed]",
            "text/plain": [
              "<Figure size 432x288 with 1 Axes>"
            ]
          },
          "metadata": {
            "tags": []
          }
        }
      ]
    },
    {
      "cell_type": "markdown",
      "metadata": {
        "id": "Apez3snJf8GC",
        "colab_type": "text"
      },
      "source": [
        "### 3. Decision trees"
      ]
    },
    {
      "cell_type": "code",
      "metadata": {
        "id": "y7zj6NIFpT48",
        "colab_type": "code",
        "outputId": "7757eb1f-4172-4d82-91e8-bf377d61299a",
        "colab": {
          "base_uri": "https://localhost:8080/",
          "height": 34
        }
      },
      "source": [
        "# Decision trees\n",
        "clf = tree.DecisionTreeClassifier()\n",
        "clf = clf.fit(X_train, y_train)\n",
        "clf.get_depth()"
      ],
      "execution_count": 0,
      "outputs": [
        {
          "output_type": "execute_result",
          "data": {
            "text/plain": [
              "33"
            ]
          },
          "metadata": {
            "tags": []
          },
          "execution_count": 69
        }
      ]
    },
    {
      "cell_type": "code",
      "metadata": {
        "id": "ATn_F1teGnck",
        "colab_type": "code",
        "outputId": "d7240486-2ec9-4791-b9ee-7fad0b57a0ee",
        "colab": {
          "base_uri": "https://localhost:8080/",
          "height": 85
        }
      },
      "source": [
        "# training set prediction\n",
        "y_pred_train = clf.predict(X_train)\n",
        "metrics.confusion_matrix(y_train, y_pred_train, labels=[0, 1, 2, 3])"
      ],
      "execution_count": 0,
      "outputs": [
        {
          "output_type": "execute_result",
          "data": {
            "text/plain": [
              "array([[3720,   54,    4,    0],\n",
              "       [ 102, 3595,   17,    0],\n",
              "       [  13,  109, 3337,    0],\n",
              "       [   2,    7,   40, 3709]])"
            ]
          },
          "metadata": {
            "tags": []
          },
          "execution_count": 76
        }
      ]
    },
    {
      "cell_type": "code",
      "metadata": {
        "id": "mTTrTE69HC4v",
        "colab_type": "code",
        "outputId": "7cc3868e-1d56-41b5-9ab0-13f4ba54c997",
        "colab": {
          "base_uri": "https://localhost:8080/",
          "height": 34
        }
      },
      "source": [
        "metrics.f1_score(y_train, y_pred_train, average='micro') "
      ],
      "execution_count": 0,
      "outputs": [
        {
          "output_type": "execute_result",
          "data": {
            "text/plain": [
              "0.9763410157046706"
            ]
          },
          "metadata": {
            "tags": []
          },
          "execution_count": 72
        }
      ]
    },
    {
      "cell_type": "code",
      "metadata": {
        "id": "Y4FzuclpTCkg",
        "colab_type": "code",
        "outputId": "7d1d171c-c2f7-406b-a632-21ebd919ab88",
        "colab": {
          "base_uri": "https://localhost:8080/",
          "height": 34
        }
      },
      "source": [
        "y_train_b = label_binarize(y_train, bin_num)\n",
        "y_pred_train_b = label_binarize(y_pred_train, bin_num)\n",
        "roc_auc_score(y_train_b, y_pred_train_b)"
      ],
      "execution_count": 0,
      "outputs": [
        {
          "output_type": "execute_result",
          "data": {
            "text/plain": [
              "0.984088822050992"
            ]
          },
          "metadata": {
            "tags": []
          },
          "execution_count": 73
        }
      ]
    },
    {
      "cell_type": "code",
      "metadata": {
        "id": "LeWDL43eHHT3",
        "colab_type": "code",
        "outputId": "c29a772c-a1c2-460e-8861-ce8f70b3080c",
        "colab": {
          "base_uri": "https://localhost:8080/",
          "height": 85
        }
      },
      "source": [
        "# val set prediction\n",
        "y_pred_val = clf.predict(X_val)\n",
        "metrics.confusion_matrix(y_val, y_pred_val, labels=[0, 1, 2, 3])"
      ],
      "execution_count": 0,
      "outputs": [
        {
          "output_type": "execute_result",
          "data": {
            "text/plain": [
              "array([[961, 256,  78,  31],\n",
              "       [274, 680, 223,  88],\n",
              "       [ 75, 254, 595, 236],\n",
              "       [ 25,  72, 211, 844]])"
            ]
          },
          "metadata": {
            "tags": []
          },
          "execution_count": 77
        }
      ]
    },
    {
      "cell_type": "code",
      "metadata": {
        "id": "Ek7yV_ZoHbFH",
        "colab_type": "code",
        "outputId": "c737d565-36ab-435e-df2a-a8a2198399d1",
        "colab": {
          "base_uri": "https://localhost:8080/",
          "height": 34
        }
      },
      "source": [
        "metrics.f1_score(y_val, y_pred_val, average='micro') "
      ],
      "execution_count": 0,
      "outputs": [
        {
          "output_type": "execute_result",
          "data": {
            "text/plain": [
              "0.6281868243932286"
            ]
          },
          "metadata": {
            "tags": []
          },
          "execution_count": 78
        }
      ]
    },
    {
      "cell_type": "code",
      "metadata": {
        "id": "uFzgQj-sw2MI",
        "colab_type": "code",
        "outputId": "6a781453-0630-48d5-8e3d-70dc256dd7a8",
        "colab": {
          "base_uri": "https://localhost:8080/",
          "height": 34
        }
      },
      "source": [
        "y_val_b = label_binarize(y_val, bin_num)\n",
        "y_pred_val_b = label_binarize(y_pred_val, bin_num)\n",
        "roc_auc_score(y_val_b, y_pred_val_b)"
      ],
      "execution_count": 0,
      "outputs": [
        {
          "output_type": "execute_result",
          "data": {
            "text/plain": [
              "0.7514862970582713"
            ]
          },
          "metadata": {
            "tags": []
          },
          "execution_count": 79
        }
      ]
    },
    {
      "cell_type": "code",
      "metadata": {
        "id": "Y035QLCVzzD4",
        "colab_type": "code",
        "colab": {}
      },
      "source": [
        "# Test set\n",
        "y_pred_test = model.predict(X_test)\n",
        "metrics.confusion_matrix(y_test, y_pred_test, labels=[0, 1, 2, 3])"
      ],
      "execution_count": 0,
      "outputs": []
    },
    {
      "cell_type": "code",
      "metadata": {
        "id": "yA3GuLHMzy45",
        "colab_type": "code",
        "colab": {}
      },
      "source": [
        "metrics.f1_score(y_test, y_pred_test, average='micro') "
      ],
      "execution_count": 0,
      "outputs": []
    },
    {
      "cell_type": "code",
      "metadata": {
        "id": "l4JFcsNZzyuz",
        "colab_type": "code",
        "colab": {}
      },
      "source": [
        "y_test_b = label_binarize(y_test, bin_num)\n",
        "y_pred_test_b = label_binarize(y_pred_test, bin_num)\n",
        "roc_auc_score(y_test_b, y_pred_test_b)"
      ],
      "execution_count": 0,
      "outputs": []
    },
    {
      "cell_type": "code",
      "metadata": {
        "id": "iwqwsEi_zyiU",
        "colab_type": "code",
        "colab": {}
      },
      "source": [
        "# Plot normalized confusion matrix\n",
        "plt.figure()\n",
        "cm = metrics.confusion_matrix(y_test, y_pred_test, labels=[0, 1, 2, 3])\n",
        "# cm = cm.astype('float') / cm.sum(axis=1)[:, np.newaxis]\n",
        "plot_confusion_matrix(cm, normalize=True, target_names=['0','1','2','3'],\n",
        "                      title='Normalized confusion matrix')\n",
        "plt.show()"
      ],
      "execution_count": 0,
      "outputs": []
    },
    {
      "cell_type": "code",
      "metadata": {
        "id": "SNEj95-5ZEVw",
        "colab_type": "code",
        "outputId": "15b1f88c-d7a9-4506-ed90-e99978398cdb",
        "colab": {
          "base_uri": "https://localhost:8080/",
          "height": 295
        }
      },
      "source": [
        "# Learning Curve\n",
        "depth_array = list(range(33))\n",
        "f1_array_train = np.zeros(33)\n",
        "f1_array_val = np.zeros(33)\n",
        "\n",
        "for i in depth_array:\n",
        "  clf = tree.DecisionTreeClassifier(max_depth=i+1)\n",
        "  clf = clf.fit(X_train, y_train)\n",
        "\n",
        "  # training set\n",
        "  y_pred = clf.predict(X_train)\n",
        "  f1_array_train[i] = metrics.f1_score(y_train, y_pred, average='micro') \n",
        "  \n",
        "  # val set\n",
        "  y_val_pred = clf.predict(X_val)\n",
        "  f1_array_val[i] = metrics.f1_score(y_val, y_val_pred, average='micro') \n",
        "\n",
        "plt.plot(depth_array, f1_array_train, label='Training Set')\n",
        "plt.plot(depth_array, f1_array_val, label='Test Set')\n",
        "plt.xlabel('Depth of Tree')\n",
        "plt.ylabel('F1 Score')\n",
        "plt.title('Learning Curve for Decision Tree')\n",
        "plt.legend()\n",
        "plt.show()"
      ],
      "execution_count": 0,
      "outputs": [
        {
          "output_type": "display_data",
          "data": {
            "image/png": "[encoded data removed]",
            "text/plain": [
              "<Figure size 432x288 with 1 Axes>"
            ]
          },
          "metadata": {
            "tags": []
          }
        }
      ]
    },
    {
      "cell_type": "markdown",
      "metadata": {
        "id": "vT7vShDbAbnf",
        "colab_type": "text"
      },
      "source": [
        "### 4. Neural Net with Regression"
      ]
    },
    {
      "cell_type": "code",
      "metadata": {
        "id": "YS0tSAG-AepG",
        "colab_type": "code",
        "outputId": "b9586b60-418a-4daf-949e-1d92d4276d05",
        "colab": {
          "base_uri": "https://localhost:8080/",
          "height": 198
        }
      },
      "source": [
        "mlp = MLPRegressor(hidden_layer_sizes=(100,100,100,100), max_iter=1000, shuffle=True, random_state=1)\n",
        "mlp.fit(X_train,y_train)\n",
        "mlp.score(X_train,y_train)"
      ],
      "execution_count": 0,
      "outputs": [
        {
          "output_type": "error",
          "ename": "NameError",
          "evalue": "ignored",
          "traceback": [
            "\u001b[0;31m---------------------------------------------------------------------------\u001b[0m",
            "\u001b[0;31mNameError\u001b[0m                                 Traceback (most recent call last)",
            "\u001b[0;32m<ipython-input-1-59aadb92040a>\u001b[0m in \u001b[0;36m<module>\u001b[0;34m()\u001b[0m\n\u001b[0;32m----> 1\u001b[0;31m \u001b[0mmlp\u001b[0m \u001b[0;34m=\u001b[0m \u001b[0mMLPRegressor\u001b[0m\u001b[0;34m(\u001b[0m\u001b[0mhidden_layer_sizes\u001b[0m\u001b[0;34m=\u001b[0m\u001b[0;34m(\u001b[0m\u001b[0;36m100\u001b[0m\u001b[0;34m,\u001b[0m\u001b[0;36m100\u001b[0m\u001b[0;34m,\u001b[0m\u001b[0;36m100\u001b[0m\u001b[0;34m,\u001b[0m\u001b[0;36m100\u001b[0m\u001b[0;34m)\u001b[0m\u001b[0;34m,\u001b[0m \u001b[0mmax_iter\u001b[0m\u001b[0;34m=\u001b[0m\u001b[0;36m1000\u001b[0m\u001b[0;34m,\u001b[0m \u001b[0mshuffle\u001b[0m\u001b[0;34m=\u001b[0m\u001b[0;32mTrue\u001b[0m\u001b[0;34m,\u001b[0m \u001b[0mrandom_state\u001b[0m\u001b[0;34m=\u001b[0m\u001b[0;36m1\u001b[0m\u001b[0;34m)\u001b[0m\u001b[0;34m\u001b[0m\u001b[0;34m\u001b[0m\u001b[0m\n\u001b[0m\u001b[1;32m      2\u001b[0m \u001b[0mmlp\u001b[0m\u001b[0;34m.\u001b[0m\u001b[0mfit\u001b[0m\u001b[0;34m(\u001b[0m\u001b[0mX_train\u001b[0m\u001b[0;34m,\u001b[0m\u001b[0my_train\u001b[0m\u001b[0;34m)\u001b[0m\u001b[0;34m\u001b[0m\u001b[0;34m\u001b[0m\u001b[0m\n\u001b[1;32m      3\u001b[0m \u001b[0mmlp\u001b[0m\u001b[0;34m.\u001b[0m\u001b[0mscore\u001b[0m\u001b[0;34m(\u001b[0m\u001b[0mX_train\u001b[0m\u001b[0;34m,\u001b[0m\u001b[0my_train\u001b[0m\u001b[0;34m)\u001b[0m\u001b[0;34m\u001b[0m\u001b[0;34m\u001b[0m\u001b[0m\n",
            "\u001b[0;31mNameError\u001b[0m: name 'MLPRegressor' is not defined"
          ]
        }
      ]
    },
    {
      "cell_type": "code",
      "metadata": {
        "id": "IrKaikVvBfGP",
        "colab_type": "code",
        "colab": {}
      },
      "source": [
        "y_pred = mlp.predict(X_train)\n",
        "y_pred = np.exp(y_pred)\n",
        "y_train_true = np.exp(y_train)"
      ],
      "execution_count": 0,
      "outputs": []
    },
    {
      "cell_type": "code",
      "metadata": {
        "id": "0IyiEBaHJxT0",
        "colab_type": "code",
        "outputId": "4f234d87-b570-4462-e10a-d075b88733ce",
        "colab": {
          "base_uri": "https://localhost:8080/",
          "height": 50
        }
      },
      "source": [
        "y_pred"
      ],
      "execution_count": 0,
      "outputs": [
        {
          "output_type": "execute_result",
          "data": {
            "text/plain": [
              "array([  35015.92188874,   57239.44348829,   29719.64232066, ...,\n",
              "         22734.18838824, 1862973.8515516 ,   12518.4921178 ])"
            ]
          },
          "metadata": {
            "tags": []
          },
          "execution_count": 178
        }
      ]
    },
    {
      "cell_type": "code",
      "metadata": {
        "id": "jx4s2OBtJzjg",
        "colab_type": "code",
        "outputId": "a91d2121-7026-4268-fddd-638229dee47b",
        "colab": {
          "base_uri": "https://localhost:8080/",
          "height": 34
        }
      },
      "source": [
        "max_ind = np.argmax(y_train_true)\n",
        "y_train_true[max_ind] - y_pred[max_ind]"
      ],
      "execution_count": 0,
      "outputs": [
        {
          "output_type": "execute_result",
          "data": {
            "text/plain": [
              "606891918.0090293"
            ]
          },
          "metadata": {
            "tags": []
          },
          "execution_count": 189
        }
      ]
    },
    {
      "cell_type": "code",
      "metadata": {
        "id": "Dm3OO7ULJCn6",
        "colab_type": "code",
        "outputId": "80e449a3-70b8-4f94-8952-3adc8a0c9c90",
        "colab": {
          "base_uri": "https://localhost:8080/",
          "height": 67
        }
      },
      "source": [
        "print('Mean Absolute Error:', metrics.mean_absolute_error(y_train, y_pred))  \n",
        "print('Mean Squared Error:', metrics.mean_squared_error(y_train, y_pred))  \n",
        "print('Root Mean Squared Error:', np.sqrt(metrics.mean_squared_error(y_train, y_pred)))"
      ],
      "execution_count": 0,
      "outputs": [
        {
          "output_type": "stream",
          "text": [
            "Mean Absolute Error: 144752.6424564186\n",
            "Mean Squared Error: 1012217267437.7675\n",
            "Root Mean Squared Error: 1006090.0891261018\n"
          ],
          "name": "stdout"
        }
      ]
    },
    {
      "cell_type": "code",
      "metadata": {
        "id": "Il0KiPbpDC2s",
        "colab_type": "code",
        "outputId": "facdea27-9d5a-4412-fe02-7a059d1f27f8",
        "colab": {
          "base_uri": "https://localhost:8080/",
          "height": 34
        }
      },
      "source": [
        "mlp.score(X_val,y_val)"
      ],
      "execution_count": 0,
      "outputs": [
        {
          "output_type": "execute_result",
          "data": {
            "text/plain": [
              "0.8365937874662147"
            ]
          },
          "metadata": {
            "tags": []
          },
          "execution_count": 173
        }
      ]
    },
    {
      "cell_type": "code",
      "metadata": {
        "id": "C-PRpfzQCPVE",
        "colab_type": "code",
        "outputId": "e19e021c-0465-40a5-e8b0-2136d5c402a9",
        "colab": {
          "base_uri": "https://localhost:8080/",
          "height": 67
        }
      },
      "source": [
        "y_pred = mlp.predict(X_vak)\n",
        "print('Mean Absolute Error:', metrics.mean_absolute_error(y_test, y_pred))  \n",
        "print('Mean Squared Error:', metrics.mean_squared_error(y_test, y_pred))  \n",
        "print('Root Mean Squared Error:', np.sqrt(metrics.mean_squared_error(y_test, y_pred)))"
      ],
      "execution_count": 0,
      "outputs": [
        {
          "output_type": "stream",
          "text": [
            "Mean Absolute Error: 0.48286333021255895\n",
            "Mean Squared Error: 0.40173801482877813\n",
            "Root Mean Squared Error: 0.6338280640905529\n"
          ],
          "name": "stdout"
        }
      ]
    },
    {
      "cell_type": "code",
      "metadata": {
        "id": "aiyEUwdKCUKb",
        "colab_type": "code",
        "outputId": "a7c17513-5de0-44cd-f195-9f86539be3dd",
        "colab": {
          "base_uri": "https://localhost:8080/",
          "height": 50
        }
      },
      "source": [
        "y_pred"
      ],
      "execution_count": 0,
      "outputs": [
        {
          "output_type": "execute_result",
          "data": {
            "text/plain": [
              "array([10.4573232 , 10.71698652, 10.74902193, ...,  9.46241054,\n",
              "        9.55069   , 11.11969573])"
            ]
          },
          "metadata": {
            "tags": []
          },
          "execution_count": 175
        }
      ]
    },
    {
      "cell_type": "code",
      "metadata": {
        "id": "0gJSGhkrEcSN",
        "colab_type": "code",
        "outputId": "c9ab390d-5ba0-40cd-ad73-c1b62d71ee9a",
        "colab": {
          "base_uri": "https://localhost:8080/",
          "height": 50
        }
      },
      "source": [
        "y_val"
      ],
      "execution_count": 0,
      "outputs": [
        {
          "output_type": "execute_result",
          "data": {
            "text/plain": [
              "array([  13930.        ,   97450.        ,   23300.        , ...,\n",
              "         23300.        , 3212142.85714286,    7980.        ])"
            ]
          },
          "metadata": {
            "tags": []
          },
          "execution_count": 148
        }
      ]
    },
    {
      "cell_type": "code",
      "metadata": {
        "id": "gwSFejSmEeB8",
        "colab_type": "code",
        "colab": {}
      },
      "source": [
        ""
      ],
      "execution_count": 0,
      "outputs": []
    }
  ]
}