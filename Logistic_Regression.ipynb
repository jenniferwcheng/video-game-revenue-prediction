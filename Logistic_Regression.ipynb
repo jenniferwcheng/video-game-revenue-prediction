{
  "nbformat": 4,
  "nbformat_minor": 0,
  "metadata": {
    "colab": {
      "name": "Cleaning_Data.ipynb",
      "provenance": [],
      "collapsed_sections": []
    },
    "kernelspec": {
      "name": "python3",
      "display_name": "Python 3"
    }
  },
  "cells": [
    {
      "cell_type": "code",
      "metadata": {
        "id": "M5CFPCuTGZEQ",
        "colab_type": "code",
        "colab": {}
      },
      "source": [
        "import pandas as pd\n",
        "import numpy as np\n",
        "import matplotlib.pyplot as plt  \n",
        "import seaborn as seabornInstance \n",
        "from sklearn.model_selection import train_test_split \n",
        "from sklearn.linear_model import LinearRegression\n",
        "from sklearn.preprocessing import PolynomialFeatures\n",
        "from sklearn.metrics import mean_squared_error, r2_score\n",
        "from sklearn import metrics \n",
        "from sklearn import datasets\n",
        "from sklearn.multiclass import OneVsRestClassifier\n",
        "from sklearn.svm import LinearSVC\n",
        "from sklearn.datasets import fetch_mldata\n",
        "from sklearn.preprocessing import StandardScaler\n",
        "from sklearn.linear_model import LogisticRegression\n",
        "import os"
      ],
      "execution_count": 0,
      "outputs": []
    },
    {
      "cell_type": "code",
      "metadata": {
        "id": "k-WUNDoFJa-j",
        "colab_type": "code",
        "outputId": "c8f71344-5721-4bda-9964-e9786bee7837",
        "colab": {
          "resources": {
            "http://localhost:8080/nbextensions/google.colab/files.js": {
              "data": "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",
              "ok": true,
              "headers": [
                [
                  "content-type",
                  "application/javascript"
                ]
              ],
              "status": 200,
              "status_text": ""
            }
          },
          "base_uri": "https://localhost:8080/",
          "height": 74
        }
      },
      "source": [
        "from google.colab import files\n",
        "uploaded = files.upload()"
      ],
      "execution_count": 2,
      "outputs": [
        {
          "output_type": "display_data",
          "data": {
            "text/html": [
              "\n",
              "     <input type=\"file\" id=\"files-909ae4df-d49c-4b59-b0ec-1bbf4121ec3d\" name=\"files[]\" multiple disabled />\n",
              "     <output id=\"result-909ae4df-d49c-4b59-b0ec-1bbf4121ec3d\">\n",
              "      Upload widget is only available when the cell has been executed in the\n",
              "      current browser session. Please rerun this cell to enable.\n",
              "      </output>\n",
              "      <script src=\"/nbextensions/google.colab/files.js\"></script> "
            ],
            "text/plain": [
              "<IPython.core.display.HTML object>"
            ]
          },
          "metadata": {
            "tags": []
          }
        },
        {
          "output_type": "stream",
          "text": [
            "Saving steam_raw.csv to steam_raw (1).csv\n"
          ],
          "name": "stdout"
        }
      ]
    },
    {
      "cell_type": "code",
      "metadata": {
        "id": "8MUWh5wPx_9X",
        "colab_type": "code",
        "colab": {}
      },
      "source": [
        ""
      ],
      "execution_count": 0,
      "outputs": []
    },
    {
      "cell_type": "code",
      "metadata": {
        "id": "0mp9lqppHjzw",
        "colab_type": "code",
        "colab": {}
      },
      "source": [
        "df = pd.read_csv('./steam_raw.csv')"
      ],
      "execution_count": 0,
      "outputs": []
    },
    {
      "cell_type": "code",
      "metadata": {
        "id": "WAJGczqDHqAR",
        "colab_type": "code",
        "outputId": "55983893-b3a7-492a-fafe-923f17324450",
        "colab": {
          "base_uri": "https://localhost:8080/",
          "height": 286
        }
      },
      "source": [
        "# remove unwanted columns\n",
        "to_drop = ['appid', 'name', 'english', 'developer', 'publisher', 'platforms', 'required_age', 'genres', 'steamspy_tags']\n",
        "df.drop(to_drop, inplace=True, axis=1)\n",
        "\n",
        "# remove zeros in columns\n",
        "df['price'] = df['price'].astype(float)\n",
        "df['achievements'] = df['achievements'].astype(float)\n",
        "df['average_playtime'] = df['average_playtime'].astype(float)\n",
        "df = df[df.price != 0]\n",
        "#df = df[df.achievements != 0]\n",
        "#df = df[df.average_playtime != 0]\n",
        "df.describe()"
      ],
      "execution_count": 106,
      "outputs": [
        {
          "output_type": "execute_result",
          "data": {
            "text/html": [
              "<div>\n",
              "<style scoped>\n",
              "    .dataframe tbody tr th:only-of-type {\n",
              "        vertical-align: middle;\n",
              "    }\n",
              "\n",
              "    .dataframe tbody tr th {\n",
              "        vertical-align: top;\n",
              "    }\n",
              "\n",
              "    .dataframe thead th {\n",
              "        text-align: right;\n",
              "    }\n",
              "</style>\n",
              "<table border=\"1\" class=\"dataframe\">\n",
              "  <thead>\n",
              "    <tr style=\"text-align: right;\">\n",
              "      <th></th>\n",
              "      <th>achievements</th>\n",
              "      <th>positive_ratings</th>\n",
              "      <th>negative_ratings</th>\n",
              "      <th>average_playtime</th>\n",
              "      <th>median_playtime</th>\n",
              "      <th>price</th>\n",
              "    </tr>\n",
              "  </thead>\n",
              "  <tbody>\n",
              "    <tr>\n",
              "      <th>count</th>\n",
              "      <td>24515.000000</td>\n",
              "      <td>24515.000000</td>\n",
              "      <td>24515.000000</td>\n",
              "      <td>24515.000000</td>\n",
              "      <td>24515.000000</td>\n",
              "      <td>24515.000000</td>\n",
              "    </tr>\n",
              "    <tr>\n",
              "      <th>mean</th>\n",
              "      <td>47.752396</td>\n",
              "      <td>784.935346</td>\n",
              "      <td>167.258454</td>\n",
              "      <td>117.085866</td>\n",
              "      <td>116.447767</td>\n",
              "      <td>6.712914</td>\n",
              "    </tr>\n",
              "    <tr>\n",
              "      <th>std</th>\n",
              "      <td>366.361743</td>\n",
              "      <td>7827.263120</td>\n",
              "      <td>3482.386936</td>\n",
              "      <td>939.620677</td>\n",
              "      <td>1068.468825</td>\n",
              "      <td>8.014336</td>\n",
              "    </tr>\n",
              "    <tr>\n",
              "      <th>min</th>\n",
              "      <td>0.000000</td>\n",
              "      <td>0.000000</td>\n",
              "      <td>0.000000</td>\n",
              "      <td>0.000000</td>\n",
              "      <td>0.000000</td>\n",
              "      <td>0.320000</td>\n",
              "    </tr>\n",
              "    <tr>\n",
              "      <th>25%</th>\n",
              "      <td>0.000000</td>\n",
              "      <td>6.000000</td>\n",
              "      <td>2.000000</td>\n",
              "      <td>0.000000</td>\n",
              "      <td>0.000000</td>\n",
              "      <td>2.090000</td>\n",
              "    </tr>\n",
              "    <tr>\n",
              "      <th>50%</th>\n",
              "      <td>8.000000</td>\n",
              "      <td>22.000000</td>\n",
              "      <td>8.000000</td>\n",
              "      <td>0.000000</td>\n",
              "      <td>0.000000</td>\n",
              "      <td>4.790000</td>\n",
              "    </tr>\n",
              "    <tr>\n",
              "      <th>75%</th>\n",
              "      <td>24.000000</td>\n",
              "      <td>112.000000</td>\n",
              "      <td>37.000000</td>\n",
              "      <td>0.000000</td>\n",
              "      <td>0.000000</td>\n",
              "      <td>7.490000</td>\n",
              "    </tr>\n",
              "    <tr>\n",
              "      <th>max</th>\n",
              "      <td>9821.000000</td>\n",
              "      <td>496184.000000</td>\n",
              "      <td>487076.000000</td>\n",
              "      <td>55204.000000</td>\n",
              "      <td>86148.000000</td>\n",
              "      <td>421.990000</td>\n",
              "    </tr>\n",
              "  </tbody>\n",
              "</table>\n",
              "</div>"
            ],
            "text/plain": [
              "       achievements  positive_ratings  ...  median_playtime         price\n",
              "count  24515.000000      24515.000000  ...     24515.000000  24515.000000\n",
              "mean      47.752396        784.935346  ...       116.447767      6.712914\n",
              "std      366.361743       7827.263120  ...      1068.468825      8.014336\n",
              "min        0.000000          0.000000  ...         0.000000      0.320000\n",
              "25%        0.000000          6.000000  ...         0.000000      2.090000\n",
              "50%        8.000000         22.000000  ...         0.000000      4.790000\n",
              "75%       24.000000        112.000000  ...         0.000000      7.490000\n",
              "max     9821.000000     496184.000000  ...     86148.000000    421.990000\n",
              "\n",
              "[8 rows x 6 columns]"
            ]
          },
          "metadata": {
            "tags": []
          },
          "execution_count": 106
        }
      ]
    },
    {
      "cell_type": "code",
      "metadata": {
        "id": "sRfksQk6H3AA",
        "colab_type": "code",
        "colab": {}
      },
      "source": [
        "# combine ratings\n",
        "df.insert(3, 'ratings', ' ', True) \n",
        "df['ratings'] = df['positive_ratings']/(df['positive_ratings'] + df['negative_ratings'])\n",
        "\n",
        "# remove unwanted ratings columns\n",
        "to_drop = ['positive_ratings', 'negative_ratings']\n",
        "df.drop(to_drop, inplace=True, axis=1)"
      ],
      "execution_count": 0,
      "outputs": []
    },
    {
      "cell_type": "code",
      "metadata": {
        "id": "kPQgUzMRH5fz",
        "colab_type": "code",
        "colab": {}
      },
      "source": [
        "# extract the year\n",
        "df['release_year'] = pd.DatetimeIndex(df['release_date']).year\n",
        "\n",
        "# remove release_date column\n",
        "to_drop = ['release_date']\n",
        "df.drop(to_drop, inplace=True, axis=1)\n",
        "\n",
        "# split owners\n",
        "df[['min_owners','max_owners']] = df['owners'].str.split('-',expand=True)\n",
        "\n",
        "# calculate average yearly revenue\n",
        "df.insert(8, 'avg_revenue', ' ', True) \n",
        "df['min_owners'] = df['min_owners'].astype(float)\n",
        "df['max_owners'] = df['max_owners'].astype(float)\n",
        "df['price'] = df['price'].astype(float)\n",
        "df['release_year'] = df['release_year'].astype(float)\n",
        "df['avg_revenue'] = (df['min_owners'] + df['max_owners'])/2 * df['price'] / (2020 - df['release_year'])\n",
        "\n",
        "# remove columns\n",
        "to_drop = ['release_year', 'min_owners', 'max_owners', 'owners']\n",
        "df.drop(to_drop, inplace=True, axis=1)"
      ],
      "execution_count": 0,
      "outputs": []
    },
    {
      "cell_type": "code",
      "metadata": {
        "id": "HlDoNpn8IK27",
        "colab_type": "code",
        "colab": {}
      },
      "source": [
        "# insert column for multi-player and single-player\n",
        "df.insert(1, 'singleplayer', ' ', True) \n",
        "df.insert(2, 'multiplayer', ' ', True) \n",
        "\n",
        "# make categories lowercase\n",
        "df['categories'] = df['categories'].str.lower()\n",
        "\n",
        "# Populate columns with True/False\n",
        "df['singleplayer'] = df['categories'].str.contains('single-player')\n",
        "df['multiplayer'] = df['categories'].str.contains('multi-player')\n",
        "\n",
        "# Change to binary 0/1\n",
        "df['singleplayer'] = df['singleplayer'].astype(int)\n",
        "df['multiplayer'] = df['multiplayer'].astype(int)\n",
        "\n",
        "to_drop = ['categories']\n",
        "df.drop(to_drop, inplace=True, axis=1)"
      ],
      "execution_count": 0,
      "outputs": []
    },
    {
      "cell_type": "code",
      "metadata": {
        "id": "6k7Zx3Q2IbPk",
        "colab_type": "code",
        "colab": {}
      },
      "source": [
        "# mean normalization + feature scaling\n",
        "achievements_std = df['achievements'].std()\n",
        "achievements_mean = df.achievements.mean()\n",
        "df.achievements = (df.achievements - achievements_mean)/achievements_std\n",
        "\n",
        "price_std = df['price'].std()\n",
        "price_mean = df.price.mean()\n",
        "df.price = (df.price - price_mean)/price_std\n",
        "\n",
        "avg_playtime_std = df['average_playtime'].std()\n",
        "avg_playtime_mean = df.average_playtime.mean()\n",
        "df.average_playtime = (df.average_playtime - avg_playtime_mean)/avg_playtime_std\n",
        "\n",
        "med_playtime_std = df['median_playtime'].std()\n",
        "med_playtime_mean = df.median_playtime.mean()\n",
        "df.median_playtime = (df.median_playtime - med_playtime_mean)/med_playtime_std"
      ],
      "execution_count": 0,
      "outputs": []
    },
    {
      "cell_type": "code",
      "metadata": {
        "id": "vkPawJBqIgP9",
        "colab_type": "code",
        "outputId": "ddfa57af-2381-476c-ad40-8c546951c427",
        "colab": {
          "base_uri": "https://localhost:8080/",
          "height": 196
        }
      },
      "source": [
        "df.head()\n",
        "#df.to_csv('steam_v1.csv')\n",
        "#files.download('steam_v1.csv')"
      ],
      "execution_count": 111,
      "outputs": [
        {
          "output_type": "execute_result",
          "data": {
            "text/html": [
              "<div>\n",
              "<style scoped>\n",
              "    .dataframe tbody tr th:only-of-type {\n",
              "        vertical-align: middle;\n",
              "    }\n",
              "\n",
              "    .dataframe tbody tr th {\n",
              "        vertical-align: top;\n",
              "    }\n",
              "\n",
              "    .dataframe thead th {\n",
              "        text-align: right;\n",
              "    }\n",
              "</style>\n",
              "<table border=\"1\" class=\"dataframe\">\n",
              "  <thead>\n",
              "    <tr style=\"text-align: right;\">\n",
              "      <th></th>\n",
              "      <th>singleplayer</th>\n",
              "      <th>multiplayer</th>\n",
              "      <th>achievements</th>\n",
              "      <th>ratings</th>\n",
              "      <th>average_playtime</th>\n",
              "      <th>median_playtime</th>\n",
              "      <th>price</th>\n",
              "      <th>avg_revenue</th>\n",
              "    </tr>\n",
              "  </thead>\n",
              "  <tbody>\n",
              "    <tr>\n",
              "      <th>0</th>\n",
              "      <td>0</td>\n",
              "      <td>1</td>\n",
              "      <td>-0.130342</td>\n",
              "      <td>0.973888</td>\n",
              "      <td>18.619124</td>\n",
              "      <td>0.187701</td>\n",
              "      <td>0.059529</td>\n",
              "      <td>5.392500e+06</td>\n",
              "    </tr>\n",
              "    <tr>\n",
              "      <th>1</th>\n",
              "      <td>0</td>\n",
              "      <td>1</td>\n",
              "      <td>-0.130342</td>\n",
              "      <td>0.839787</td>\n",
              "      <td>0.170190</td>\n",
              "      <td>-0.050959</td>\n",
              "      <td>-0.339755</td>\n",
              "      <td>1.425000e+06</td>\n",
              "    </tr>\n",
              "    <tr>\n",
              "      <th>2</th>\n",
              "      <td>0</td>\n",
              "      <td>1</td>\n",
              "      <td>-0.130342</td>\n",
              "      <td>0.895648</td>\n",
              "      <td>0.074407</td>\n",
              "      <td>-0.077164</td>\n",
              "      <td>-0.339755</td>\n",
              "      <td>1.760294e+06</td>\n",
              "    </tr>\n",
              "    <tr>\n",
              "      <th>3</th>\n",
              "      <td>0</td>\n",
              "      <td>1</td>\n",
              "      <td>-0.130342</td>\n",
              "      <td>0.826623</td>\n",
              "      <td>0.149969</td>\n",
              "      <td>0.063223</td>\n",
              "      <td>-0.339755</td>\n",
              "      <td>1.575000e+06</td>\n",
              "    </tr>\n",
              "    <tr>\n",
              "      <th>4</th>\n",
              "      <td>1</td>\n",
              "      <td>1</td>\n",
              "      <td>-0.130342</td>\n",
              "      <td>0.947996</td>\n",
              "      <td>0.539488</td>\n",
              "      <td>0.279421</td>\n",
              "      <td>-0.339755</td>\n",
              "      <td>1.425000e+06</td>\n",
              "    </tr>\n",
              "  </tbody>\n",
              "</table>\n",
              "</div>"
            ],
            "text/plain": [
              "   singleplayer  multiplayer  ...     price   avg_revenue\n",
              "0             0            1  ...  0.059529  5.392500e+06\n",
              "1             0            1  ... -0.339755  1.425000e+06\n",
              "2             0            1  ... -0.339755  1.760294e+06\n",
              "3             0            1  ... -0.339755  1.575000e+06\n",
              "4             1            1  ... -0.339755  1.425000e+06\n",
              "\n",
              "[5 rows x 8 columns]"
            ]
          },
          "metadata": {
            "tags": []
          },
          "execution_count": 111
        }
      ]
    },
    {
      "cell_type": "code",
      "metadata": {
        "id": "0MbcXxBAob_-",
        "colab_type": "code",
        "outputId": "7c2c1d57-498c-4c73-efac-7333430ccf65",
        "colab": {
          "base_uri": "https://localhost:8080/",
          "height": 286
        }
      },
      "source": [
        "df.describe()"
      ],
      "execution_count": 112,
      "outputs": [
        {
          "output_type": "execute_result",
          "data": {
            "text/html": [
              "<div>\n",
              "<style scoped>\n",
              "    .dataframe tbody tr th:only-of-type {\n",
              "        vertical-align: middle;\n",
              "    }\n",
              "\n",
              "    .dataframe tbody tr th {\n",
              "        vertical-align: top;\n",
              "    }\n",
              "\n",
              "    .dataframe thead th {\n",
              "        text-align: right;\n",
              "    }\n",
              "</style>\n",
              "<table border=\"1\" class=\"dataframe\">\n",
              "  <thead>\n",
              "    <tr style=\"text-align: right;\">\n",
              "      <th></th>\n",
              "      <th>singleplayer</th>\n",
              "      <th>multiplayer</th>\n",
              "      <th>achievements</th>\n",
              "      <th>ratings</th>\n",
              "      <th>average_playtime</th>\n",
              "      <th>median_playtime</th>\n",
              "      <th>price</th>\n",
              "      <th>avg_revenue</th>\n",
              "    </tr>\n",
              "  </thead>\n",
              "  <tbody>\n",
              "    <tr>\n",
              "      <th>count</th>\n",
              "      <td>24515.000000</td>\n",
              "      <td>24515.000000</td>\n",
              "      <td>2.451500e+04</td>\n",
              "      <td>24515.000000</td>\n",
              "      <td>2.451500e+04</td>\n",
              "      <td>2.451500e+04</td>\n",
              "      <td>2.451500e+04</td>\n",
              "      <td>2.451500e+04</td>\n",
              "    </tr>\n",
              "    <tr>\n",
              "      <th>mean</th>\n",
              "      <td>0.965980</td>\n",
              "      <td>0.178625</td>\n",
              "      <td>-3.843523e-15</td>\n",
              "      <td>0.713999</td>\n",
              "      <td>-1.726036e-14</td>\n",
              "      <td>2.397772e-14</td>\n",
              "      <td>-6.702102e-14</td>\n",
              "      <td>3.047743e+05</td>\n",
              "    </tr>\n",
              "    <tr>\n",
              "      <th>std</th>\n",
              "      <td>0.181284</td>\n",
              "      <td>0.383046</td>\n",
              "      <td>1.000000e+00</td>\n",
              "      <td>0.238622</td>\n",
              "      <td>1.000000e+00</td>\n",
              "      <td>1.000000e+00</td>\n",
              "      <td>1.000000e+00</td>\n",
              "      <td>5.125625e+06</td>\n",
              "    </tr>\n",
              "    <tr>\n",
              "      <th>min</th>\n",
              "      <td>0.000000</td>\n",
              "      <td>0.000000</td>\n",
              "      <td>-1.303422e-01</td>\n",
              "      <td>0.000000</td>\n",
              "      <td>-1.246097e-01</td>\n",
              "      <td>-1.089856e-01</td>\n",
              "      <td>-7.976848e-01</td>\n",
              "      <td>1.316667e+03</td>\n",
              "    </tr>\n",
              "    <tr>\n",
              "      <th>25%</th>\n",
              "      <td>1.000000</td>\n",
              "      <td>0.000000</td>\n",
              "      <td>-1.303422e-01</td>\n",
              "      <td>0.582116</td>\n",
              "      <td>-1.246097e-01</td>\n",
              "      <td>-1.089856e-01</td>\n",
              "      <td>-5.768306e-01</td>\n",
              "      <td>9.975000e+03</td>\n",
              "    </tr>\n",
              "    <tr>\n",
              "      <th>50%</th>\n",
              "      <td>1.000000</td>\n",
              "      <td>0.000000</td>\n",
              "      <td>-1.085059e-01</td>\n",
              "      <td>0.764706</td>\n",
              "      <td>-1.246097e-01</td>\n",
              "      <td>-1.089856e-01</td>\n",
              "      <td>-2.399343e-01</td>\n",
              "      <td>2.330000e+04</td>\n",
              "    </tr>\n",
              "    <tr>\n",
              "      <th>75%</th>\n",
              "      <td>1.000000</td>\n",
              "      <td>0.000000</td>\n",
              "      <td>-6.483318e-02</td>\n",
              "      <td>0.897436</td>\n",
              "      <td>-1.246097e-01</td>\n",
              "      <td>-1.089856e-01</td>\n",
              "      <td>9.696203e-02</td>\n",
              "      <td>5.905000e+04</td>\n",
              "    </tr>\n",
              "    <tr>\n",
              "      <th>max</th>\n",
              "      <td>1.000000</td>\n",
              "      <td>1.000000</td>\n",
              "      <td>2.667650e+01</td>\n",
              "      <td>1.000000</td>\n",
              "      <td>5.862676e+01</td>\n",
              "      <td>8.051854e+01</td>\n",
              "      <td>5.181678e+01</td>\n",
              "      <td>6.747500e+08</td>\n",
              "    </tr>\n",
              "  </tbody>\n",
              "</table>\n",
              "</div>"
            ],
            "text/plain": [
              "       singleplayer   multiplayer  ...         price   avg_revenue\n",
              "count  24515.000000  24515.000000  ...  2.451500e+04  2.451500e+04\n",
              "mean       0.965980      0.178625  ... -6.702102e-14  3.047743e+05\n",
              "std        0.181284      0.383046  ...  1.000000e+00  5.125625e+06\n",
              "min        0.000000      0.000000  ... -7.976848e-01  1.316667e+03\n",
              "25%        1.000000      0.000000  ... -5.768306e-01  9.975000e+03\n",
              "50%        1.000000      0.000000  ... -2.399343e-01  2.330000e+04\n",
              "75%        1.000000      0.000000  ...  9.696203e-02  5.905000e+04\n",
              "max        1.000000      1.000000  ...  5.181678e+01  6.747500e+08\n",
              "\n",
              "[8 rows x 8 columns]"
            ]
          },
          "metadata": {
            "tags": []
          },
          "execution_count": 112
        }
      ]
    },
    {
      "cell_type": "code",
      "metadata": {
        "id": "3D1iQHxXdwm_",
        "colab_type": "code",
        "colab": {}
      },
      "source": [
        "# Run this if rerunning binning\n",
        "\n",
        "#df.hist(column='avg_revenue', bins ='auto')\n",
        "to_drop = ['bins']\n",
        "df.drop(to_drop, inplace=True, axis=1)"
      ],
      "execution_count": 0,
      "outputs": []
    },
    {
      "cell_type": "code",
      "metadata": {
        "id": "qW4vrbvz1BzJ",
        "colab_type": "code",
        "outputId": "29aede1b-f623-4584-e559-f9c48b959fab",
        "colab": {
          "base_uri": "https://localhost:8080/",
          "height": 196
        }
      },
      "source": [
        "# Split into bins\n",
        "df.insert(7, 'bins', ' ', True) \n",
        "bin_num = np.linspace(start=0,stop=31,num=32)\n",
        "df.bins = pd.qcut(df.avg_revenue, q=32, labels=bin_num)\n",
        "df.head()"
      ],
      "execution_count": 142,
      "outputs": [
        {
          "output_type": "execute_result",
          "data": {
            "text/html": [
              "<div>\n",
              "<style scoped>\n",
              "    .dataframe tbody tr th:only-of-type {\n",
              "        vertical-align: middle;\n",
              "    }\n",
              "\n",
              "    .dataframe tbody tr th {\n",
              "        vertical-align: top;\n",
              "    }\n",
              "\n",
              "    .dataframe thead th {\n",
              "        text-align: right;\n",
              "    }\n",
              "</style>\n",
              "<table border=\"1\" class=\"dataframe\">\n",
              "  <thead>\n",
              "    <tr style=\"text-align: right;\">\n",
              "      <th></th>\n",
              "      <th>singleplayer</th>\n",
              "      <th>multiplayer</th>\n",
              "      <th>achievements</th>\n",
              "      <th>ratings</th>\n",
              "      <th>average_playtime</th>\n",
              "      <th>median_playtime</th>\n",
              "      <th>price</th>\n",
              "      <th>bins</th>\n",
              "      <th>avg_revenue</th>\n",
              "    </tr>\n",
              "  </thead>\n",
              "  <tbody>\n",
              "    <tr>\n",
              "      <th>0</th>\n",
              "      <td>0</td>\n",
              "      <td>1</td>\n",
              "      <td>-0.130342</td>\n",
              "      <td>0.973888</td>\n",
              "      <td>18.619124</td>\n",
              "      <td>0.187701</td>\n",
              "      <td>0.059529</td>\n",
              "      <td>31.0</td>\n",
              "      <td>5.392500e+06</td>\n",
              "    </tr>\n",
              "    <tr>\n",
              "      <th>1</th>\n",
              "      <td>0</td>\n",
              "      <td>1</td>\n",
              "      <td>-0.130342</td>\n",
              "      <td>0.839787</td>\n",
              "      <td>0.170190</td>\n",
              "      <td>-0.050959</td>\n",
              "      <td>-0.339755</td>\n",
              "      <td>31.0</td>\n",
              "      <td>1.425000e+06</td>\n",
              "    </tr>\n",
              "    <tr>\n",
              "      <th>2</th>\n",
              "      <td>0</td>\n",
              "      <td>1</td>\n",
              "      <td>-0.130342</td>\n",
              "      <td>0.895648</td>\n",
              "      <td>0.074407</td>\n",
              "      <td>-0.077164</td>\n",
              "      <td>-0.339755</td>\n",
              "      <td>31.0</td>\n",
              "      <td>1.760294e+06</td>\n",
              "    </tr>\n",
              "    <tr>\n",
              "      <th>3</th>\n",
              "      <td>0</td>\n",
              "      <td>1</td>\n",
              "      <td>-0.130342</td>\n",
              "      <td>0.826623</td>\n",
              "      <td>0.149969</td>\n",
              "      <td>0.063223</td>\n",
              "      <td>-0.339755</td>\n",
              "      <td>31.0</td>\n",
              "      <td>1.575000e+06</td>\n",
              "    </tr>\n",
              "    <tr>\n",
              "      <th>4</th>\n",
              "      <td>1</td>\n",
              "      <td>1</td>\n",
              "      <td>-0.130342</td>\n",
              "      <td>0.947996</td>\n",
              "      <td>0.539488</td>\n",
              "      <td>0.279421</td>\n",
              "      <td>-0.339755</td>\n",
              "      <td>31.0</td>\n",
              "      <td>1.425000e+06</td>\n",
              "    </tr>\n",
              "  </tbody>\n",
              "</table>\n",
              "</div>"
            ],
            "text/plain": [
              "   singleplayer  multiplayer  achievements  ...     price  bins   avg_revenue\n",
              "0             0            1     -0.130342  ...  0.059529  31.0  5.392500e+06\n",
              "1             0            1     -0.130342  ... -0.339755  31.0  1.425000e+06\n",
              "2             0            1     -0.130342  ... -0.339755  31.0  1.760294e+06\n",
              "3             0            1     -0.130342  ... -0.339755  31.0  1.575000e+06\n",
              "4             1            1     -0.130342  ... -0.339755  31.0  1.425000e+06\n",
              "\n",
              "[5 rows x 9 columns]"
            ]
          },
          "metadata": {
            "tags": []
          },
          "execution_count": 142
        }
      ]
    },
    {
      "cell_type": "code",
      "metadata": {
        "id": "LWFiSR7HxPVN",
        "colab_type": "code",
        "outputId": "b090499c-0c6c-4672-e784-a2dd18809b08",
        "colab": {
          "base_uri": "https://localhost:8080/",
          "height": 286
        }
      },
      "source": [
        "df.describe()"
      ],
      "execution_count": 114,
      "outputs": [
        {
          "output_type": "execute_result",
          "data": {
            "text/html": [
              "<div>\n",
              "<style scoped>\n",
              "    .dataframe tbody tr th:only-of-type {\n",
              "        vertical-align: middle;\n",
              "    }\n",
              "\n",
              "    .dataframe tbody tr th {\n",
              "        vertical-align: top;\n",
              "    }\n",
              "\n",
              "    .dataframe thead th {\n",
              "        text-align: right;\n",
              "    }\n",
              "</style>\n",
              "<table border=\"1\" class=\"dataframe\">\n",
              "  <thead>\n",
              "    <tr style=\"text-align: right;\">\n",
              "      <th></th>\n",
              "      <th>singleplayer</th>\n",
              "      <th>multiplayer</th>\n",
              "      <th>achievements</th>\n",
              "      <th>ratings</th>\n",
              "      <th>average_playtime</th>\n",
              "      <th>median_playtime</th>\n",
              "      <th>price</th>\n",
              "      <th>avg_revenue</th>\n",
              "    </tr>\n",
              "  </thead>\n",
              "  <tbody>\n",
              "    <tr>\n",
              "      <th>count</th>\n",
              "      <td>24515.000000</td>\n",
              "      <td>24515.000000</td>\n",
              "      <td>2.451500e+04</td>\n",
              "      <td>24515.000000</td>\n",
              "      <td>2.451500e+04</td>\n",
              "      <td>2.451500e+04</td>\n",
              "      <td>2.451500e+04</td>\n",
              "      <td>2.451500e+04</td>\n",
              "    </tr>\n",
              "    <tr>\n",
              "      <th>mean</th>\n",
              "      <td>0.965980</td>\n",
              "      <td>0.178625</td>\n",
              "      <td>-3.843523e-15</td>\n",
              "      <td>0.713999</td>\n",
              "      <td>-1.726036e-14</td>\n",
              "      <td>2.397772e-14</td>\n",
              "      <td>-6.702102e-14</td>\n",
              "      <td>3.047743e+05</td>\n",
              "    </tr>\n",
              "    <tr>\n",
              "      <th>std</th>\n",
              "      <td>0.181284</td>\n",
              "      <td>0.383046</td>\n",
              "      <td>1.000000e+00</td>\n",
              "      <td>0.238622</td>\n",
              "      <td>1.000000e+00</td>\n",
              "      <td>1.000000e+00</td>\n",
              "      <td>1.000000e+00</td>\n",
              "      <td>5.125625e+06</td>\n",
              "    </tr>\n",
              "    <tr>\n",
              "      <th>min</th>\n",
              "      <td>0.000000</td>\n",
              "      <td>0.000000</td>\n",
              "      <td>-1.303422e-01</td>\n",
              "      <td>0.000000</td>\n",
              "      <td>-1.246097e-01</td>\n",
              "      <td>-1.089856e-01</td>\n",
              "      <td>-7.976848e-01</td>\n",
              "      <td>1.316667e+03</td>\n",
              "    </tr>\n",
              "    <tr>\n",
              "      <th>25%</th>\n",
              "      <td>1.000000</td>\n",
              "      <td>0.000000</td>\n",
              "      <td>-1.303422e-01</td>\n",
              "      <td>0.582116</td>\n",
              "      <td>-1.246097e-01</td>\n",
              "      <td>-1.089856e-01</td>\n",
              "      <td>-5.768306e-01</td>\n",
              "      <td>9.975000e+03</td>\n",
              "    </tr>\n",
              "    <tr>\n",
              "      <th>50%</th>\n",
              "      <td>1.000000</td>\n",
              "      <td>0.000000</td>\n",
              "      <td>-1.085059e-01</td>\n",
              "      <td>0.764706</td>\n",
              "      <td>-1.246097e-01</td>\n",
              "      <td>-1.089856e-01</td>\n",
              "      <td>-2.399343e-01</td>\n",
              "      <td>2.330000e+04</td>\n",
              "    </tr>\n",
              "    <tr>\n",
              "      <th>75%</th>\n",
              "      <td>1.000000</td>\n",
              "      <td>0.000000</td>\n",
              "      <td>-6.483318e-02</td>\n",
              "      <td>0.897436</td>\n",
              "      <td>-1.246097e-01</td>\n",
              "      <td>-1.089856e-01</td>\n",
              "      <td>9.696203e-02</td>\n",
              "      <td>5.905000e+04</td>\n",
              "    </tr>\n",
              "    <tr>\n",
              "      <th>max</th>\n",
              "      <td>1.000000</td>\n",
              "      <td>1.000000</td>\n",
              "      <td>2.667650e+01</td>\n",
              "      <td>1.000000</td>\n",
              "      <td>5.862676e+01</td>\n",
              "      <td>8.051854e+01</td>\n",
              "      <td>5.181678e+01</td>\n",
              "      <td>6.747500e+08</td>\n",
              "    </tr>\n",
              "  </tbody>\n",
              "</table>\n",
              "</div>"
            ],
            "text/plain": [
              "       singleplayer   multiplayer  ...         price   avg_revenue\n",
              "count  24515.000000  24515.000000  ...  2.451500e+04  2.451500e+04\n",
              "mean       0.965980      0.178625  ... -6.702102e-14  3.047743e+05\n",
              "std        0.181284      0.383046  ...  1.000000e+00  5.125625e+06\n",
              "min        0.000000      0.000000  ... -7.976848e-01  1.316667e+03\n",
              "25%        1.000000      0.000000  ... -5.768306e-01  9.975000e+03\n",
              "50%        1.000000      0.000000  ... -2.399343e-01  2.330000e+04\n",
              "75%        1.000000      0.000000  ...  9.696203e-02  5.905000e+04\n",
              "max        1.000000      1.000000  ...  5.181678e+01  6.747500e+08\n",
              "\n",
              "[8 rows x 8 columns]"
            ]
          },
          "metadata": {
            "tags": []
          },
          "execution_count": 114
        }
      ]
    },
    {
      "cell_type": "code",
      "metadata": {
        "id": "kal7mLxho_1r",
        "colab_type": "code",
        "colab": {}
      },
      "source": [
        "# Testing things below\n",
        "df['bins'] = df['bins'].astype(int)"
      ],
      "execution_count": 0,
      "outputs": []
    },
    {
      "cell_type": "code",
      "metadata": {
        "id": "7TQ9Huj6i_7i",
        "colab_type": "code",
        "colab": {}
      },
      "source": [
        "# Log\n",
        "\n",
        "X = df[['singleplayer', 'multiplayer', 'achievements', 'ratings', 'average_playtime', 'median_playtime', 'price']].values\n",
        "y = df['bins'].values\n",
        "X_train, X_test, y_train, y_test = train_test_split(X, y, test_size=0.2, random_state=3, shuffle='true')\n",
        "\n",
        "# Fit to training set\n",
        "model = LogisticRegression(solver='saga', multi_class='multinomial', max_iter=4000)\n",
        "model.fit(X_train,y_train)\n",
        "\n",
        "# Predictions on training set\n",
        "y_pred = model.predict(X_train)\n"
      ],
      "execution_count": 0,
      "outputs": []
    },
    {
      "cell_type": "code",
      "metadata": {
        "id": "8PvLv2HEl4w5",
        "colab_type": "code",
        "colab": {
          "base_uri": "https://localhost:8080/",
          "height": 50
        },
        "outputId": "6677b43c-130f-432c-de8e-1729f9014d7b"
      },
      "source": [
        "# Accuracy\n",
        "\n",
        "count_miss = (y_train != y_pred).sum()\n",
        "print('Misclassified samples: {}'.format(count_miss))\n",
        "accuracy = metrics.accuracy_score(y_train, y_pred)\n",
        "print('Accuracy: {:.2f}'.format(accuracy))"
      ],
      "execution_count": 145,
      "outputs": [
        {
          "output_type": "stream",
          "text": [
            "Misclassified samples: 16049\n",
            "Accuracy: 0.18\n"
          ],
          "name": "stdout"
        }
      ]
    },
    {
      "cell_type": "code",
      "metadata": {
        "id": "cbPd2v_ZnNjS",
        "colab_type": "code",
        "outputId": "deff6d80-7616-4e43-d557-c842432b1df4",
        "colab": {
          "base_uri": "https://localhost:8080/",
          "height": 33
        }
      },
      "source": [
        "count_zeros = (y_train != 0).sum()\n",
        "count_zeros"
      ],
      "execution_count": 100,
      "outputs": [
        {
          "output_type": "execute_result",
          "data": {
            "text/plain": [
              "14460"
            ]
          },
          "metadata": {
            "tags": []
          },
          "execution_count": 100
        }
      ]
    },
    {
      "cell_type": "code",
      "metadata": {
        "id": "Qzil6bqy3MGt",
        "colab_type": "code",
        "colab": {
          "base_uri": "https://localhost:8080/",
          "height": 33
        },
        "outputId": "43d0cbea-d4e9-4426-fe8a-687d30496e18"
      },
      "source": [
        "y_pred"
      ],
      "execution_count": 102,
      "outputs": [
        {
          "output_type": "execute_result",
          "data": {
            "text/plain": [
              "array([2, 3, 2, ..., 2, 3, 1])"
            ]
          },
          "metadata": {
            "tags": []
          },
          "execution_count": 102
        }
      ]
    },
    {
      "cell_type": "code",
      "metadata": {
        "id": "8sJVlq3yzoq5",
        "colab_type": "code",
        "outputId": "653973d7-8493-4f46-c39f-1b80a9c2ee91",
        "colab": {
          "base_uri": "https://localhost:8080/",
          "height": 50
        }
      },
      "source": [
        "# Predictions on training set\n",
        "y_pred_test = model.predict(X_test)\n",
        "\n",
        "count_miss = (y_test != y_pred_test).sum()\n",
        "count_miss = (y_test != y_pred_test).sum()\n",
        "print('Misclassified samples: {}'.format(count_miss))\n",
        "accuracy = metrics.accuracy_score(y_train, y_pred)\n",
        "print('Accuracy: {:.2f}'.format(accuracy))"
      ],
      "execution_count": 118,
      "outputs": [
        {
          "output_type": "stream",
          "text": [
            "Misclassified samples: 2085\n",
            "Accuracy: 0.57\n"
          ],
          "name": "stdout"
        }
      ]
    },
    {
      "cell_type": "code",
      "metadata": {
        "id": "S0T3j2RWnWXj",
        "colab_type": "code",
        "outputId": "9114b19d-b94a-47b6-fbdc-535f8af5ffc4",
        "colab": {
          "base_uri": "https://localhost:8080/",
          "height": 486
        }
      },
      "source": [
        "df1 = pd.DataFrame({'Actual': y_train, 'Predicted': y_pred})\n",
        "df2 = df1.head(25)\n",
        "\n",
        "df2.plot(kind='bar',figsize=(10,8))\n",
        "plt.grid(which='major', linestyle='-', linewidth='0.5', color='green')\n",
        "plt.grid(which='minor', linestyle=':', linewidth='0.5', color='black')\n",
        "plt.show()"
      ],
      "execution_count": 17,
      "outputs": [
        {
          "output_type": "display_data",
          "data": {
            "image/png": "[encoded data removed]",
            "text/plain": [
              "<Figure size 720x576 with 1 Axes>"
            ]
          },
          "metadata": {
            "tags": []
          }
        }
      ]
    },
    {
      "cell_type": "code",
      "metadata": {
        "id": "Hh19iBSWpNpN",
        "colab_type": "code",
        "outputId": "80960897-6698-43ea-fbd3-585c8b70f971",
        "colab": {
          "base_uri": "https://localhost:8080/",
          "height": 306
        }
      },
      "source": [
        "df.describe()"
      ],
      "execution_count": 0,
      "outputs": [
        {
          "output_type": "execute_result",
          "data": {
            "text/html": [
              "<div>\n",
              "<style scoped>\n",
              "    .dataframe tbody tr th:only-of-type {\n",
              "        vertical-align: middle;\n",
              "    }\n",
              "\n",
              "    .dataframe tbody tr th {\n",
              "        vertical-align: top;\n",
              "    }\n",
              "\n",
              "    .dataframe thead th {\n",
              "        text-align: right;\n",
              "    }\n",
              "</style>\n",
              "<table border=\"1\" class=\"dataframe\">\n",
              "  <thead>\n",
              "    <tr style=\"text-align: right;\">\n",
              "      <th></th>\n",
              "      <th>singleplayer</th>\n",
              "      <th>multiplayer</th>\n",
              "      <th>achievements</th>\n",
              "      <th>ratings</th>\n",
              "      <th>average_playtime</th>\n",
              "      <th>price</th>\n",
              "      <th>avg_revenue</th>\n",
              "      <th>bins</th>\n",
              "    </tr>\n",
              "  </thead>\n",
              "  <tbody>\n",
              "    <tr>\n",
              "      <th>count</th>\n",
              "      <td>3687.000000</td>\n",
              "      <td>3687.000000</td>\n",
              "      <td>3.687000e+03</td>\n",
              "      <td>3687.000000</td>\n",
              "      <td>3.687000e+03</td>\n",
              "      <td>3687.000000</td>\n",
              "      <td>3.687000e+03</td>\n",
              "      <td>3687.000000</td>\n",
              "    </tr>\n",
              "    <tr>\n",
              "      <th>mean</th>\n",
              "      <td>0.973691</td>\n",
              "      <td>0.244915</td>\n",
              "      <td>-1.114138e-16</td>\n",
              "      <td>0.766894</td>\n",
              "      <td>1.870321e-17</td>\n",
              "      <td>9.404950</td>\n",
              "      <td>1.539004e+06</td>\n",
              "      <td>1.141850</td>\n",
              "    </tr>\n",
              "    <tr>\n",
              "      <th>std</th>\n",
              "      <td>0.160073</td>\n",
              "      <td>0.430095</td>\n",
              "      <td>1.000000e+00</td>\n",
              "      <td>0.161745</td>\n",
              "      <td>1.000000e+00</td>\n",
              "      <td>8.871296</td>\n",
              "      <td>1.302187e+07</td>\n",
              "      <td>11.544916</td>\n",
              "    </tr>\n",
              "    <tr>\n",
              "      <th>min</th>\n",
              "      <td>0.000000</td>\n",
              "      <td>0.000000</td>\n",
              "      <td>-1.989577e-01</td>\n",
              "      <td>0.000000</td>\n",
              "      <td>-3.322793e-01</td>\n",
              "      <td>0.490000</td>\n",
              "      <td>1.354545e+03</td>\n",
              "      <td>0.000000</td>\n",
              "    </tr>\n",
              "    <tr>\n",
              "      <th>25%</th>\n",
              "      <td>1.000000</td>\n",
              "      <td>0.000000</td>\n",
              "      <td>-1.591700e-01</td>\n",
              "      <td>0.682075</td>\n",
              "      <td>-2.560701e-01</td>\n",
              "      <td>3.790000</td>\n",
              "      <td>3.772083e+04</td>\n",
              "      <td>0.000000</td>\n",
              "    </tr>\n",
              "    <tr>\n",
              "      <th>50%</th>\n",
              "      <td>1.000000</td>\n",
              "      <td>0.000000</td>\n",
              "      <td>-1.250663e-01</td>\n",
              "      <td>0.805486</td>\n",
              "      <td>-1.779067e-01</td>\n",
              "      <td>6.990000</td>\n",
              "      <td>1.310625e+05</td>\n",
              "      <td>0.000000</td>\n",
              "    </tr>\n",
              "    <tr>\n",
              "      <th>75%</th>\n",
              "      <td>1.000000</td>\n",
              "      <td>0.000000</td>\n",
              "      <td>-6.822675e-02</td>\n",
              "      <td>0.891304</td>\n",
              "      <td>-8.248233e-02</td>\n",
              "      <td>11.990000</td>\n",
              "      <td>5.995625e+05</td>\n",
              "      <td>0.000000</td>\n",
              "    </tr>\n",
              "    <tr>\n",
              "      <th>max</th>\n",
              "      <td>1.000000</td>\n",
              "      <td>1.000000</td>\n",
              "      <td>1.400809e+01</td>\n",
              "      <td>1.000000</td>\n",
              "      <td>3.562481e+01</td>\n",
              "      <td>54.990000</td>\n",
              "      <td>6.747500e+08</td>\n",
              "      <td>599.000000</td>\n",
              "    </tr>\n",
              "  </tbody>\n",
              "</table>\n",
              "</div>"
            ],
            "text/plain": [
              "       singleplayer  multiplayer  ...   avg_revenue         bins\n",
              "count   3687.000000  3687.000000  ...  3.687000e+03  3687.000000\n",
              "mean       0.973691     0.244915  ...  1.539004e+06     1.141850\n",
              "std        0.160073     0.430095  ...  1.302187e+07    11.544916\n",
              "min        0.000000     0.000000  ...  1.354545e+03     0.000000\n",
              "25%        1.000000     0.000000  ...  3.772083e+04     0.000000\n",
              "50%        1.000000     0.000000  ...  1.310625e+05     0.000000\n",
              "75%        1.000000     0.000000  ...  5.995625e+05     0.000000\n",
              "max        1.000000     1.000000  ...  6.747500e+08   599.000000\n",
              "\n",
              "[8 rows x 8 columns]"
            ]
          },
          "metadata": {
            "tags": []
          },
          "execution_count": 172
        }
      ]
    },
    {
      "cell_type": "code",
      "metadata": {
        "id": "y7zj6NIFpT48",
        "colab_type": "code",
        "colab": {}
      },
      "source": [
        ""
      ],
      "execution_count": 0,
      "outputs": []
    }
  ]
}